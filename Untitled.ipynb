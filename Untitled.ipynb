{
 "cells": [
  {
   "cell_type": "code",
   "execution_count": 54,
   "id": "cf49b012",
   "metadata": {},
   "outputs": [],
   "source": [
    "import matplotlib.pyplot as plt\n",
    "import numpy as np\n",
    "import pandas as pd\n",
    "import seaborn as sns\n",
    "\n",
    "import scipy.stats as stats\n",
    "import statsmodels.api as sm\n",
    "import statsmodels.formula.api as smf\n",
    "\n",
    "from sklearn.impute import SimpleImputer"
   ]
  },
  {
   "cell_type": "code",
   "execution_count": 3,
   "id": "27202389",
   "metadata": {},
   "outputs": [],
   "source": [
    "train = pd.read_csv('train.csv')"
   ]
  },
  {
   "cell_type": "code",
   "execution_count": 4,
   "id": "8cb8bab5",
   "metadata": {},
   "outputs": [
    {
     "name": "stdout",
     "output_type": "stream",
     "text": [
      "Shape: (8693, 14) \n",
      "\n",
      "Top 10 Columns\n",
      "  PassengerId HomePlanet CryoSleep  Cabin    Destination   Age    VIP  \\\n",
      "0     0001_01     Europa     False  B/0/P    TRAPPIST-1e  39.0  False   \n",
      "1     0002_01      Earth     False  F/0/S    TRAPPIST-1e  24.0  False   \n",
      "2     0003_01     Europa     False  A/0/S    TRAPPIST-1e  58.0   True   \n",
      "3     0003_02     Europa     False  A/0/S    TRAPPIST-1e  33.0  False   \n",
      "4     0004_01      Earth     False  F/1/S    TRAPPIST-1e  16.0  False   \n",
      "5     0005_01      Earth     False  F/0/P  PSO J318.5-22  44.0  False   \n",
      "6     0006_01      Earth     False  F/2/S    TRAPPIST-1e  26.0  False   \n",
      "7     0006_02      Earth      True  G/0/S    TRAPPIST-1e  28.0  False   \n",
      "8     0007_01      Earth     False  F/3/S    TRAPPIST-1e  35.0  False   \n",
      "9     0008_01     Europa      True  B/1/P    55 Cancri e  14.0  False   \n",
      "\n",
      "   RoomService  FoodCourt  ShoppingMall     Spa  VRDeck                Name  \\\n",
      "0          0.0        0.0           0.0     0.0     0.0     Maham Ofracculy   \n",
      "1        109.0        9.0          25.0   549.0    44.0        Juanna Vines   \n",
      "2         43.0     3576.0           0.0  6715.0    49.0       Altark Susent   \n",
      "3          0.0     1283.0         371.0  3329.0   193.0        Solam Susent   \n",
      "4        303.0       70.0         151.0   565.0     2.0   Willy Santantines   \n",
      "5          0.0      483.0           0.0   291.0     0.0   Sandie Hinetthews   \n",
      "6         42.0     1539.0           3.0     0.0     0.0  Billex Jacostaffey   \n",
      "7          0.0        0.0           0.0     0.0     NaN  Candra Jacostaffey   \n",
      "8          0.0      785.0          17.0   216.0     0.0       Andona Beston   \n",
      "9          0.0        0.0           0.0     0.0     0.0      Erraiam Flatic   \n",
      "\n",
      "   Transported  \n",
      "0        False  \n",
      "1         True  \n",
      "2        False  \n",
      "3        False  \n",
      "4         True  \n",
      "5         True  \n",
      "6         True  \n",
      "7         True  \n",
      "8         True  \n",
      "9         True  \n",
      "\n",
      "Column Names\n",
      "Index(['PassengerId', 'HomePlanet', 'CryoSleep', 'Cabin', 'Destination', 'Age',\n",
      "       'VIP', 'RoomService', 'FoodCourt', 'ShoppingMall', 'Spa', 'VRDeck',\n",
      "       'Name', 'Transported'],\n",
      "      dtype='object')\n",
      "\n",
      "Number of null values in each of these columns\n",
      "PassengerId       0\n",
      "HomePlanet      201\n",
      "CryoSleep       217\n",
      "Cabin           199\n",
      "Destination     182\n",
      "Age             179\n",
      "VIP             203\n",
      "RoomService     181\n",
      "FoodCourt       183\n",
      "ShoppingMall    208\n",
      "Spa             183\n",
      "VRDeck          188\n",
      "Name            200\n",
      "Transported       0\n",
      "dtype: int64\n",
      "\n",
      "Number of non-null values in each of these columns\n",
      "<class 'pandas.core.frame.DataFrame'>\n",
      "RangeIndex: 8693 entries, 0 to 8692\n",
      "Data columns (total 14 columns):\n",
      " #   Column        Non-Null Count  Dtype  \n",
      "---  ------        --------------  -----  \n",
      " 0   PassengerId   8693 non-null   object \n",
      " 1   HomePlanet    8492 non-null   object \n",
      " 2   CryoSleep     8476 non-null   object \n",
      " 3   Cabin         8494 non-null   object \n",
      " 4   Destination   8511 non-null   object \n",
      " 5   Age           8514 non-null   float64\n",
      " 6   VIP           8490 non-null   object \n",
      " 7   RoomService   8512 non-null   float64\n",
      " 8   FoodCourt     8510 non-null   float64\n",
      " 9   ShoppingMall  8485 non-null   float64\n",
      " 10  Spa           8510 non-null   float64\n",
      " 11  VRDeck        8505 non-null   float64\n",
      " 12  Name          8493 non-null   object \n",
      " 13  Transported   8693 non-null   bool   \n",
      "dtypes: bool(1), float64(6), object(7)\n",
      "memory usage: 891.5+ KB\n",
      "None\n",
      "\n",
      " percentage of null values in each column\n",
      "PassengerId     0.000000\n",
      "HomePlanet      2.312205\n",
      "CryoSleep       2.496261\n",
      "Cabin           2.289198\n",
      "Destination     2.093639\n",
      "Age             2.059128\n",
      "VIP             2.335212\n",
      "RoomService     2.082135\n",
      "FoodCourt       2.105142\n",
      "ShoppingMall    2.392730\n",
      "Spa             2.105142\n",
      "VRDeck          2.162660\n",
      "Name            2.300702\n",
      "Transported     0.000000\n",
      "dtype: float64\n"
     ]
    }
   ],
   "source": [
    "\n",
    "# Size\n",
    "print(\"Shape:\",train.shape,\"\\n\")\n",
    "\n",
    "# Top 10 cols\n",
    "print(\"Top 10 Columns\")\n",
    "print(train.head(10))\n",
    "\n",
    "# List all cols\n",
    "print(\"\\nColumn Names\")\n",
    "print(train.columns)\n",
    "\n",
    "# list null value count in each cols\n",
    "print(\"\\nNumber of null values in each of these columns\")\n",
    "print(train.isnull().sum())\n",
    "\n",
    "# list non-null value count in each cols\n",
    "print(\"\\nNumber of non-null values in each of these columns\")\n",
    "print(train.info())\n",
    "\n",
    "# list null value percentage in each cols\n",
    "print(\"\\n percentage of null values in each column\")\n",
    "print(train.isnull().mean() * 100)"
   ]
  },
  {
   "cell_type": "markdown",
   "id": "6f091f6f",
   "metadata": {},
   "source": [
    "## Question we should ask\n",
    "1. Are HomePlanet and Transported related\n",
    "2. Are CryoSleep and Transported related\n",
    "3. Are Cabin and Transported related\n",
    "4. Are Age and Transported related\n",
    "5. Are VIP and Transported related\n",
    "6. Are RoomService and Transported related\n",
    "7. Are FoodCourt and Transported related\n",
    "8. Are ShoppingMall and Transported related\n",
    "9. Are Spa and Transported related\n",
    "10. Are VRDeck and Transported related\n",
    "11. Are Name and Transported related"
   ]
  },
  {
   "cell_type": "markdown",
   "id": "6db82aaa",
   "metadata": {},
   "source": [
    "### 1. Does HomePlane have any relation to Transported?"
   ]
  },
  {
   "cell_type": "code",
   "execution_count": 7,
   "id": "eb15efff",
   "metadata": {},
   "outputs": [
    {
     "data": {
      "image/png": "[encoded data removed]",
      "text/plain": [
       "<Figure size 432x288 with 1 Axes>"
      ]
     },
     "metadata": {
      "needs_background": "light"
     },
     "output_type": "display_data"
    }
   ],
   "source": [
    "df = train.groupby(['HomePlanet', 'Transported']).size().unstack().plot(kind='bar', stacked=True)"
   ]
  },
  {
   "cell_type": "markdown",
   "id": "3a1e8cd2",
   "metadata": {},
   "source": [
    "### What is percentage of tranported to non-transported in each category of planet"
   ]
  },
  {
   "cell_type": "code",
   "execution_count": 16,
   "id": "5203141b",
   "metadata": {},
   "outputs": [
    {
     "data": {
      "image/png": "[encoded data removed]",
      "text/plain": [
       "<Figure size 432x288 with 1 Axes>"
      ]
     },
     "metadata": {
      "needs_background": "light"
     },
     "output_type": "display_data"
    }
   ],
   "source": [
    "counts = train.groupby(['HomePlanet', 'Transported']).size()\n",
    "totals = counts.groupby(level=0).sum()\n",
    "df_perc = counts.div(totals, level='HomePlanet') * 100\n",
    "df_perc.unstack().plot(kind='bar', stacked=True)\n",
    "\n",
    "# Set the axis labels and title\n",
    "plt.xlabel('HomePlanet')\n",
    "plt.ylabel('Transported Percentage')\n",
    "plt.title('HomePlanet and Transported Distribution')\n",
    "plt.show()"
   ]
  },
  {
   "cell_type": "markdown",
   "id": "5c96e5a6",
   "metadata": {},
   "source": [
    "### Perform a chi-squared test of independence between 'HomePlanet' and 'Transported'"
   ]
  },
  {
   "cell_type": "code",
   "execution_count": 20,
   "id": "66269783",
   "metadata": {},
   "outputs": [
    {
     "name": "stdout",
     "output_type": "stream",
     "text": [
      "Chi-squared test results:\n",
      "chi2: 324.9013834000382\n",
      "p-value: 2.809059985251311e-71\n",
      "degrees of freedom: 2\n",
      "expected frequencies:\n",
      " [[2285.28426755 2316.71573245]\n",
      " [1058.22268017 1072.77731983]\n",
      " [ 873.49305228  885.50694772]]\n"
     ]
    }
   ],
   "source": [
    "crosstab = pd.crosstab(train['HomePlanet'], train['Transported'])\n",
    "chi2, pval, dof, expected = stats.chi2_contingency(crosstab)\n",
    "\n",
    "# Print the results of the chi-squared test\n",
    "print('Chi-squared test results:')\n",
    "print('chi2:', chi2)\n",
    "print('p-value:', pval)\n",
    "print('degrees of freedom:', dof)\n",
    "print('expected frequencies:\\n', expected)"
   ]
  },
  {
   "cell_type": "markdown",
   "id": "81a38d47",
   "metadata": {},
   "source": [
    "We get a very small p-value i.e. our null hypothesis(there is no relation between the two categorical variables) is false. Therefore <b>HomePlanet</b> and <b>Transported</b> are highly related"
   ]
  },
  {
   "cell_type": "markdown",
   "id": "e98c8d7e",
   "metadata": {},
   "source": [
    "### 2. Are CryoSleep and Transported related"
   ]
  },
  {
   "cell_type": "code",
   "execution_count": 22,
   "id": "66b7ea2e",
   "metadata": {},
   "outputs": [
    {
     "data": {
      "image/png": "[encoded data removed]",
      "text/plain": [
       "<Figure size 432x288 with 1 Axes>"
      ]
     },
     "metadata": {
      "needs_background": "light"
     },
     "output_type": "display_data"
    }
   ],
   "source": [
    "df = train.groupby(['CryoSleep', 'Transported']).size().unstack().plot(kind='bar', stacked=True)"
   ]
  },
  {
   "cell_type": "code",
   "execution_count": 23,
   "id": "a944d76f",
   "metadata": {},
   "outputs": [
    {
     "data": {
      "image/png": "[encoded data removed]",
      "text/plain": [
       "<Figure size 432x288 with 1 Axes>"
      ]
     },
     "metadata": {
      "needs_background": "light"
     },
     "output_type": "display_data"
    }
   ],
   "source": [
    "counts = train.groupby(['CryoSleep', 'Transported']).size()\n",
    "totals = counts.groupby(level=0).sum()\n",
    "df_perc = counts.div(totals, level='CryoSleep') * 100\n",
    "df_perc.unstack().plot(kind='bar', stacked=True)\n",
    "\n",
    "# Set the axis labels and title\n",
    "plt.xlabel('CryoSleep')\n",
    "plt.ylabel('Transported Percentage')\n",
    "plt.title('CryoSleep and Transported Distribution')\n",
    "plt.show()"
   ]
  },
  {
   "cell_type": "code",
   "execution_count": 24,
   "id": "ef33c919",
   "metadata": {},
   "outputs": [
    {
     "name": "stdout",
     "output_type": "stream",
     "text": [
      "Chi-squared test results:\n",
      "chi2: 1859.6127129888841\n",
      "p-value: 0.0\n",
      "degrees of freedom: 1\n",
      "expected frequencies:\n",
      " [[2697.68239736 2741.31760264]\n",
      " [1506.31760264 1530.68239736]]\n"
     ]
    }
   ],
   "source": [
    "crosstab = pd.crosstab(train['CryoSleep'], train['Transported'])\n",
    "chi2, pval, dof, expected = stats.chi2_contingency(crosstab)\n",
    "\n",
    "# Print the results of the chi-squared test\n",
    "print('Chi-squared test results:')\n",
    "print('chi2:', chi2)\n",
    "print('p-value:', pval)\n",
    "print('degrees of freedom:', dof)\n",
    "print('expected frequencies:\\n', expected)"
   ]
  },
  {
   "cell_type": "markdown",
   "id": "112e1b72",
   "metadata": {},
   "source": [
    "We get a very small p-value of 0. Therefore <b>CryoSleep</b> and <b>Transported</b> are highly related\n",
    "\n",
    "However, it is important to note that a p-value of 0.0 does not necessarily mean that the observed effect is practically or clinically significant. For example, a study may find a statistically significant difference in weight loss between two groups of participants, but the difference in weight loss may be only a few grams, which may not be meaningful in terms of practical or clinical significance. In such cases, it is important to consider the effect size, the context of the study, and other relevant factors in interpreting the results and making decisions.\n",
    "\n",
    "<b>Basically don't bet your entire career on a single p-value</b>"
   ]
  },
  {
   "cell_type": "markdown",
   "id": "73576841",
   "metadata": {},
   "source": [
    "### 3. Are Cabin and Transported related"
   ]
  },
  {
   "cell_type": "code",
   "execution_count": 14,
   "id": "d849dc9d",
   "metadata": {},
   "outputs": [
    {
     "name": "stdout",
     "output_type": "stream",
     "text": [
      "0          B/0/P\n",
      "1          F/0/S\n",
      "2          A/0/S\n",
      "3          A/0/S\n",
      "4          F/1/S\n",
      "          ...   \n",
      "8688      A/98/P\n",
      "8689    G/1499/S\n",
      "8690    G/1500/S\n",
      "8691     E/608/S\n",
      "8692     E/608/S\n",
      "Name: Cabin, Length: 8693, dtype: object\n"
     ]
    }
   ],
   "source": [
    "# df = train.groupby([\"Cabin\",\"Transported\"]).size().unstack().plot(kind=\"bar\", stacked=True)\n",
    "print(train['Cabin'])\n",
    "df = pd.DataFrame()\n",
    "df[['class', 'seat_number', 'status']] = train['Cabin'].str.split('/', expand=True)\n",
    "df['Transported'] = train['Transported']"
   ]
  },
  {
   "cell_type": "code",
   "execution_count": 17,
   "id": "c5535a6e",
   "metadata": {},
   "outputs": [
    {
     "data": {
      "image/png": "[encoded data removed]",
      "text/plain": [
       "<Figure size 432x288 with 1 Axes>"
      ]
     },
     "metadata": {
      "needs_background": "light"
     },
     "output_type": "display_data"
    },
    {
     "data": {
      "image/png": "[encoded data removed]",
      "text/plain": [
       "<Figure size 432x288 with 1 Axes>"
      ]
     },
     "metadata": {
      "needs_background": "light"
     },
     "output_type": "display_data"
    }
   ],
   "source": [
    "df.groupby([\"class\",\"Transported\"]).size().unstack().plot(kind=\"bar\", stacked=True)\n",
    "\n",
    "counts = df.groupby(['class', 'Transported']).size()\n",
    "totals = counts.groupby(level=0).sum()\n",
    "df_perc = counts.div(totals, level='class') * 100\n",
    "df_perc.unstack().plot(kind='bar', stacked=True)\n",
    "\n",
    "# Set the axis labels and title\n",
    "plt.xlabel('class')\n",
    "plt.ylabel('Transported Percentage')\n",
    "plt.title('CryoSleep and Transported Distribution')\n",
    "plt.show()"
   ]
  },
  {
   "cell_type": "markdown",
   "id": "523ae986",
   "metadata": {},
   "source": [
    "This column contains a lot of information for example the people who got transported could possible be from certain area od the space ship and it is very hard to find correlation between the Cabin and Transported accurately. we can verify this using PCA Later but for now lets device the column to 3 columns."
   ]
  },
  {
   "cell_type": "code",
   "execution_count": 4,
   "id": "9164f6c0",
   "metadata": {},
   "outputs": [],
   "source": [
    "train[['class', 'seat_number', 'category']] = train['Cabin'].str.split('/', expand=True)\n",
    "train.drop('Cabin', axis=1, inplace=True)"
   ]
  },
  {
   "cell_type": "markdown",
   "id": "c882879f",
   "metadata": {},
   "source": [
    "### 4. Are Age and Transported related"
   ]
  },
  {
   "cell_type": "code",
   "execution_count": 25,
   "id": "f19872a1",
   "metadata": {},
   "outputs": [
    {
     "name": "stdout",
     "output_type": "stream",
     "text": [
      "79.0\n"
     ]
    },
    {
     "data": {
      "image/png": "[encoded data removed]",
      "text/plain": [
       "<Figure size 432x288 with 1 Axes>"
      ]
     },
     "metadata": {
      "needs_background": "light"
     },
     "output_type": "display_data"
    }
   ],
   "source": [
    "df = train[[\"Age\",\"Transported\"]].dropna()\n",
    "print(df['Age'].max())\n",
    "plt.scatter(df['Age'], df['Transported'])\n",
    "plt.xlabel('Age')\n",
    "plt.ylabel('Transported')\n",
    "plt.title('Scatter plot of Age and Transported')\n",
    "plt.show()"
   ]
  },
  {
   "cell_type": "code",
   "execution_count": 27,
   "id": "11012627",
   "metadata": {},
   "outputs": [
    {
     "name": "stderr",
     "output_type": "stream",
     "text": [
      "C:\\ProgramData\\Anaconda3\\lib\\site-packages\\seaborn\\distributions.py:2619: FutureWarning: `distplot` is a deprecated function and will be removed in a future version. Please adapt your code to use either `displot` (a figure-level function with similar flexibility) or `histplot` (an axes-level function for histograms).\n",
      "  warnings.warn(msg, FutureWarning)\n"
     ]
    },
    {
     "data": {
      "text/plain": [
       "<AxesSubplot:xlabel='Age', ylabel='Count'>"
      ]
     },
     "execution_count": 27,
     "metadata": {},
     "output_type": "execute_result"
    },
    {
     "data": {
      "image/png": "[encoded data removed]",
      "text/plain": [
       "<Figure size 432x288 with 1 Axes>"
      ]
     },
     "metadata": {
      "needs_background": "light"
     },
     "output_type": "display_data"
    }
   ],
   "source": [
    "df_transported = df[df['Transported'] == True]\n",
    "sns.histplot(data=df_transported, x='Age', kde=True)\n",
    "sns.distplot(df_transported['Age'])"
   ]
  },
  {
   "cell_type": "code",
   "execution_count": 28,
   "id": "24ffe811",
   "metadata": {},
   "outputs": [
    {
     "name": "stderr",
     "output_type": "stream",
     "text": [
      "C:\\ProgramData\\Anaconda3\\lib\\site-packages\\seaborn\\distributions.py:2619: FutureWarning: `distplot` is a deprecated function and will be removed in a future version. Please adapt your code to use either `displot` (a figure-level function with similar flexibility) or `histplot` (an axes-level function for histograms).\n",
      "  warnings.warn(msg, FutureWarning)\n"
     ]
    },
    {
     "data": {
      "text/plain": [
       "<AxesSubplot:xlabel='Age', ylabel='Count'>"
      ]
     },
     "execution_count": 28,
     "metadata": {},
     "output_type": "execute_result"
    },
    {
     "data": {
      "image/png": "[encoded data removed]",
      "text/plain": [
       "<Figure size 432x288 with 1 Axes>"
      ]
     },
     "metadata": {
      "needs_background": "light"
     },
     "output_type": "display_data"
    }
   ],
   "source": [
    "df_not_transported = df[df['Transported'] == False]\n",
    "sns.histplot(data=df_not_transported, x='Age', kde=True)\n",
    "sns.distplot(df_not_transported['Age'])"
   ]
  },
  {
   "cell_type": "markdown",
   "id": "41542a80",
   "metadata": {},
   "source": [
    "It is clear from the scatter plot at the top that there is not statistically significant relation between the too variable, but let us confirm it statistically. Assuming that Age and Transported has a linear relarationship."
   ]
  },
  {
   "cell_type": "code",
   "execution_count": 22,
   "id": "d8c59a25",
   "metadata": {},
   "outputs": [
    {
     "name": "stdout",
     "output_type": "stream",
     "text": [
      "correlation: -0.07502558362232618\n",
      "p_value: 4.1650509775437214e-12\n"
     ]
    }
   ],
   "source": [
    "correlation, p_value = stats.pointbiserialr(df['Age'].astype(int), df['Transported'].astype(int))\n",
    "print(\"correlation:\",correlation)\n",
    "print(\"p_value:\",p_value)"
   ]
  },
  {
   "cell_type": "markdown",
   "id": "fb943641",
   "metadata": {},
   "source": [
    "what if that relation is non linear?"
   ]
  },
  {
   "cell_type": "code",
   "execution_count": 29,
   "id": "a958bcbc",
   "metadata": {},
   "outputs": [
    {
     "name": "stdout",
     "output_type": "stream",
     "text": [
      "Spearman\n",
      "correlation: -0.07102883230244761\n",
      "p_value: 5.335821831042269e-11 \n",
      "\n",
      "Kendall Tau\n",
      "correlation: -0.05862483746942008\n",
      "p_value: 5.618866178390204e-11\n"
     ]
    }
   ],
   "source": [
    "correlation, p_value = stats.spearmanr(df['Age'], df['Transported'])\n",
    "print(\"Spearman\")\n",
    "print(\"correlation:\",correlation)\n",
    "print(\"p_value:\",p_value,\"\\n\")\n",
    "\n",
    "correlation, p_value = stats.kendalltau(df['Age'], df['Transported'])\n",
    "print(\"Kendall Tau\")\n",
    "print(\"correlation:\",correlation)\n",
    "print(\"p_value:\",p_value)"
   ]
  },
  {
   "cell_type": "markdown",
   "id": "b77c6910",
   "metadata": {},
   "source": [
    "A correlation coefficient of -0.07502558362232618 indicates a weak negative correlation between two variables. The negative sign indicates that as one variable increases, the other tends to decrease slightly. The magnitude of the correlation coefficient (-0.075) suggests that the relationship between the variables is weak.\n",
    "\n",
    "The p-value of 4.1650509775437214e-12 is very small, which indicates that the correlation is statistically significant at a high level of confidence. In other words, the probability of obtaining such a weak correlation by chance is very low.\n",
    "\n",
    "Therefore, we can conclude that there is a statistically significant but weak negative correlation between the variables."
   ]
  },
  {
   "cell_type": "markdown",
   "id": "87dd9e23",
   "metadata": {},
   "source": [
    "### 5. Are VIP and Transported related"
   ]
  },
  {
   "cell_type": "code",
   "execution_count": 35,
   "id": "81ae35f2",
   "metadata": {},
   "outputs": [],
   "source": [
    "df = train[[\"VIP\",\"Transported\"]].dropna()"
   ]
  },
  {
   "cell_type": "code",
   "execution_count": 32,
   "id": "1125a5ee",
   "metadata": {},
   "outputs": [
    {
     "name": "stdout",
     "output_type": "stream",
     "text": [
      "correlation: -0.03764972225919812\n",
      "p_value: 0.0005208270838886678\n"
     ]
    }
   ],
   "source": [
    "correlation, p_value = stats.pointbiserialr(df['VIP'].astype(int), df['Transported'].astype(int))\n",
    "print(\"correlation:\",correlation)\n",
    "print(\"p_value:\",p_value)"
   ]
  },
  {
   "cell_type": "markdown",
   "id": "74adaaca",
   "metadata": {},
   "source": [
    "A correlation coefficient of -0.03764972225919812 indicates a weak negative correlation between two variables. The negative sign indicates that as one variable increases, the other tends to decrease slightly. The magnitude of the correlation coefficient (-0.0376) suggests that the relationship between the variables is very weak.\n",
    "\n",
    "The p-value of 0.0005208270838886678 indicates that the correlation is statistically significant at a 95% confidence level. In other words, the probability of obtaining such a weak correlation by chance is low.\n",
    "\n",
    "Therefore, we can conclude that there is a statistically significant but weak negative correlation between the variables"
   ]
  },
  {
   "cell_type": "markdown",
   "id": "d25b5577",
   "metadata": {},
   "source": [
    "### 6. Are 'RoomService', 'FoodCourt', 'ShoppingMall', 'Spa', 'VRDeck' and Transported related\n",
    "\n",
    "since all these values are the amount of money spent on each of the services, so a possible relationship can be that they were present at a certain place when the incident happend. they relation ship could possible be that the amount spent on each service could tell the amount of time spent in a certain area"
   ]
  },
  {
   "cell_type": "code",
   "execution_count": 60,
   "id": "3244a6af",
   "metadata": {},
   "outputs": [
    {
     "name": "stdout",
     "output_type": "stream",
     "text": [
      "Optimization terminated successfully.\n",
      "         Current function value: 0.518244\n",
      "         Iterations 8\n",
      "                           Logit Regression Results                           \n",
      "==============================================================================\n",
      "Dep. Variable:            Transported   No. Observations:                 8512\n",
      "Model:                          Logit   Df Residuals:                     8506\n",
      "Method:                           MLE   Df Model:                            5\n",
      "Date:                Wed, 08 Mar 2023   Pseudo R-squ.:                  0.2523\n",
      "Time:                        13:53:32   Log-Likelihood:                -4411.3\n",
      "converged:                       True   LL-Null:                       -5899.7\n",
      "Covariance Type:            nonrobust   LLR p-value:                     0.000\n",
      "================================================================================\n",
      "                   coef    std err          z      P>|z|      [0.025      0.975]\n",
      "--------------------------------------------------------------------------------\n",
      "const            0.7931      0.032     24.952      0.000       0.731       0.855\n",
      "RoomService     -0.0022   9.17e-05    -23.519      0.000      -0.002      -0.002\n",
      "FoodCourt        0.0007   3.83e-05     18.996      0.000       0.001       0.001\n",
      "ShoppingMall     0.0002   5.39e-05      3.431      0.001    7.92e-05       0.000\n",
      "Spa             -0.0023      0.000    -21.668      0.000      -0.003      -0.002\n",
      "VRDeck          -0.0021   9.99e-05    -21.360      0.000      -0.002      -0.002\n",
      "================================================================================\n"
     ]
    },
    {
     "name": "stderr",
     "output_type": "stream",
     "text": [
      "C:\\ProgramData\\Anaconda3\\lib\\site-packages\\statsmodels\\tsa\\tsatools.py:142: FutureWarning: In a future version of pandas all arguments of concat except for the argument 'objs' will be keyword-only\n",
      "  x = pd.concat(x[::order], 1)\n"
     ]
    }
   ],
   "source": [
    "df[['RoomService', 'FoodCourt', 'ShoppingMall', 'Spa', 'VRDeck', 'Transported']] = train[['RoomService', 'FoodCourt', 'ShoppingMall', 'Spa', 'VRDeck', 'Transported']]\n",
    "\n",
    "df['RoomService'] = imputer.fit_transform(df[['RoomService']])\n",
    "df['FoodCourt'] = imputer.fit_transform(df[['FoodCourt']])\n",
    "df['ShoppingMall'] = imputer.fit_transform(df[['ShoppingMall']])\n",
    "df['Spa'] = imputer.fit_transform(df[['Spa']])\n",
    "df['VRDeck'] = imputer.fit_transform(df[['VRDeck']])\n",
    "\n",
    "X = df[['RoomService', 'FoodCourt', 'ShoppingMall', 'Spa', 'VRDeck']]\n",
    "y = df['Transported']\n",
    "X = sm.add_constant(X)\n",
    "model = sm.Logit(y, X)\n",
    "results = model.fit()\n",
    "\n",
    "# Print the summary of the model results\n",
    "print(results.summary())"
   ]
  },
  {
   "cell_type": "markdown",
   "id": "08e4f071",
   "metadata": {},
   "source": [
    "ased on the coefficients, it seems that the RoomService and Spa variables have negative coefficients, meaning that as the amount billed for these amenities increases, the odds of being transported decrease. Conversely, the FoodCourt, ShoppingMall, and VRDeck variables have positive coefficients, indicating that higher bills for these amenities are associated with higher odds of being transported.\n",
    "\n",
    "However, it's important to note that these coefficients should be interpreted with caution, as they are based on a simple logistic regression model and may not fully capture the true relationships between the predictor variables and the outcome variable. It's always a good idea to check the assumptions of the model and consider alternative models before making any conclusions about the relationship between the variables."
   ]
  },
  {
   "cell_type": "markdown",
   "id": "760a79a9",
   "metadata": {},
   "source": [
    "#### how significant are each of these relations?"
   ]
  },
  {
   "cell_type": "markdown",
   "id": "bc142137",
   "metadata": {},
   "source": [
    "The significance of the relationship between each predictor variable and the outcome variable can be determined by the p-values in the model summary. A p-value less than 0.05 (assuming a significance level of 0.05) indicates that the relationship is statistically significant and unlikely to have occurred by chance.\n",
    "\n",
    "Looking at the p-values in the model summary, it appears that all of the predictor variables are statistically significant, as all of their p-values are less than 0.05. Specifically, the p-values for RoomService, FoodCourt, ShoppingMall, Spa, and VRDeck are 0.000, 0.000, 0.001, 0.000, and 0.000, respectively.\n",
    "\n",
    "Therefore, we can conclude that there is strong evidence that the relationship between each predictor variable and the outcome variable (Transported) is statistically significant in this logistic regression model."
   ]
  },
  {
   "cell_type": "markdown",
   "id": "1dbbb021",
   "metadata": {},
   "source": [
    "### 11. Are Name and Transported related"
   ]
  },
  {
   "cell_type": "markdown",
   "id": "a359fe4d",
   "metadata": {},
   "source": [
    "Name does'nt have a significant effect on the them being transported unless it the seats are arranged in a certain order based on order or if this was conspiercy to remove some people from this world due to some political vendeta but we are not going to consider it."
   ]
  },
  {
   "cell_type": "code",
   "execution_count": null,
   "id": "c025226c",
   "metadata": {},
   "outputs": [],
   "source": []
  }
 ],
 "metadata": {
  "kernelspec": {
   "display_name": "Python 3 (ipykernel)",
   "language": "python",
   "name": "python3"
  },
  "language_info": {
   "codemirror_mode": {
    "name": "ipython",
    "version": 3
   },
   "file_extension": ".py",
   "mimetype": "text/x-python",
   "name": "python",
   "nbconvert_exporter": "python",
   "pygments_lexer": "ipython3",
   "version": "3.9.7"
  }
 },
 "nbformat": 4,
 "nbformat_minor": 5
}
