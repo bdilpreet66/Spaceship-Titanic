{
 "cells": [
  {
   "cell_type": "code",
   "execution_count": 7,
   "id": "cf49b012",
   "metadata": {},
   "outputs": [],
   "source": [
    "import matplotlib.pyplot as plt\n",
    "import numpy as np\n",
    "import pandas as pd\n",
    "\n",
    "\n",
    "import scipy.stats as stats"
   ]
  },
  {
   "cell_type": "code",
   "execution_count": 8,
   "id": "27202389",
   "metadata": {},
   "outputs": [],
   "source": [
    "train = pd.read_csv('train.csv')"
   ]
  },
  {
   "cell_type": "code",
   "execution_count": 4,
   "id": "8cb8bab5",
   "metadata": {},
   "outputs": [
    {
     "name": "stdout",
     "output_type": "stream",
     "text": [
      "Shape: (8693, 14) \n",
      "\n",
      "Top 10 Columns\n",
      "  PassengerId HomePlanet CryoSleep  Cabin    Destination   Age    VIP  \\\n",
      "0     0001_01     Europa     False  B/0/P    TRAPPIST-1e  39.0  False   \n",
      "1     0002_01      Earth     False  F/0/S    TRAPPIST-1e  24.0  False   \n",
      "2     0003_01     Europa     False  A/0/S    TRAPPIST-1e  58.0   True   \n",
      "3     0003_02     Europa     False  A/0/S    TRAPPIST-1e  33.0  False   \n",
      "4     0004_01      Earth     False  F/1/S    TRAPPIST-1e  16.0  False   \n",
      "5     0005_01      Earth     False  F/0/P  PSO J318.5-22  44.0  False   \n",
      "6     0006_01      Earth     False  F/2/S    TRAPPIST-1e  26.0  False   \n",
      "7     0006_02      Earth      True  G/0/S    TRAPPIST-1e  28.0  False   \n",
      "8     0007_01      Earth     False  F/3/S    TRAPPIST-1e  35.0  False   \n",
      "9     0008_01     Europa      True  B/1/P    55 Cancri e  14.0  False   \n",
      "\n",
      "   RoomService  FoodCourt  ShoppingMall     Spa  VRDeck                Name  \\\n",
      "0          0.0        0.0           0.0     0.0     0.0     Maham Ofracculy   \n",
      "1        109.0        9.0          25.0   549.0    44.0        Juanna Vines   \n",
      "2         43.0     3576.0           0.0  6715.0    49.0       Altark Susent   \n",
      "3          0.0     1283.0         371.0  3329.0   193.0        Solam Susent   \n",
      "4        303.0       70.0         151.0   565.0     2.0   Willy Santantines   \n",
      "5          0.0      483.0           0.0   291.0     0.0   Sandie Hinetthews   \n",
      "6         42.0     1539.0           3.0     0.0     0.0  Billex Jacostaffey   \n",
      "7          0.0        0.0           0.0     0.0     NaN  Candra Jacostaffey   \n",
      "8          0.0      785.0          17.0   216.0     0.0       Andona Beston   \n",
      "9          0.0        0.0           0.0     0.0     0.0      Erraiam Flatic   \n",
      "\n",
      "   Transported  \n",
      "0        False  \n",
      "1         True  \n",
      "2        False  \n",
      "3        False  \n",
      "4         True  \n",
      "5         True  \n",
      "6         True  \n",
      "7         True  \n",
      "8         True  \n",
      "9         True  \n",
      "\n",
      "Column Names\n",
      "Index(['PassengerId', 'HomePlanet', 'CryoSleep', 'Cabin', 'Destination', 'Age',\n",
      "       'VIP', 'RoomService', 'FoodCourt', 'ShoppingMall', 'Spa', 'VRDeck',\n",
      "       'Name', 'Transported'],\n",
      "      dtype='object')\n",
      "\n",
      "Number of null values in each of these columns\n",
      "PassengerId       0\n",
      "HomePlanet      201\n",
      "CryoSleep       217\n",
      "Cabin           199\n",
      "Destination     182\n",
      "Age             179\n",
      "VIP             203\n",
      "RoomService     181\n",
      "FoodCourt       183\n",
      "ShoppingMall    208\n",
      "Spa             183\n",
      "VRDeck          188\n",
      "Name            200\n",
      "Transported       0\n",
      "dtype: int64\n",
      "\n",
      "Number of non-null values in each of these columns\n",
      "<class 'pandas.core.frame.DataFrame'>\n",
      "RangeIndex: 8693 entries, 0 to 8692\n",
      "Data columns (total 14 columns):\n",
      " #   Column        Non-Null Count  Dtype  \n",
      "---  ------        --------------  -----  \n",
      " 0   PassengerId   8693 non-null   object \n",
      " 1   HomePlanet    8492 non-null   object \n",
      " 2   CryoSleep     8476 non-null   object \n",
      " 3   Cabin         8494 non-null   object \n",
      " 4   Destination   8511 non-null   object \n",
      " 5   Age           8514 non-null   float64\n",
      " 6   VIP           8490 non-null   object \n",
      " 7   RoomService   8512 non-null   float64\n",
      " 8   FoodCourt     8510 non-null   float64\n",
      " 9   ShoppingMall  8485 non-null   float64\n",
      " 10  Spa           8510 non-null   float64\n",
      " 11  VRDeck        8505 non-null   float64\n",
      " 12  Name          8493 non-null   object \n",
      " 13  Transported   8693 non-null   bool   \n",
      "dtypes: bool(1), float64(6), object(7)\n",
      "memory usage: 891.5+ KB\n",
      "None\n",
      "\n",
      " percentage of null values in each column\n",
      "PassengerId     0.000000\n",
      "HomePlanet      2.312205\n",
      "CryoSleep       2.496261\n",
      "Cabin           2.289198\n",
      "Destination     2.093639\n",
      "Age             2.059128\n",
      "VIP             2.335212\n",
      "RoomService     2.082135\n",
      "FoodCourt       2.105142\n",
      "ShoppingMall    2.392730\n",
      "Spa             2.105142\n",
      "VRDeck          2.162660\n",
      "Name            2.300702\n",
      "Transported     0.000000\n",
      "dtype: float64\n"
     ]
    }
   ],
   "source": [
    "\n",
    "# Size\n",
    "print(\"Shape:\",train.shape,\"\\n\")\n",
    "\n",
    "# Top 10 cols\n",
    "print(\"Top 10 Columns\")\n",
    "print(train.head(10))\n",
    "\n",
    "# List all cols\n",
    "print(\"\\nColumn Names\")\n",
    "print(train.columns)\n",
    "\n",
    "# list null value count in each cols\n",
    "print(\"\\nNumber of null values in each of these columns\")\n",
    "print(train.isnull().sum())\n",
    "\n",
    "# list non-null value count in each cols\n",
    "print(\"\\nNumber of non-null values in each of these columns\")\n",
    "print(train.info())\n",
    "\n",
    "# list null value percentage in each cols\n",
    "print(\"\\n percentage of null values in each column\")\n",
    "print(train.isnull().mean() * 100)"
   ]
  },
  {
   "cell_type": "markdown",
   "id": "6f091f6f",
   "metadata": {},
   "source": [
    "## Question we should ask\n",
    "1. Are HomePlanet and Transported related\n",
    "2. Are CryoSleep and Transported related\n",
    "3. Are Cabin and Transported related\n",
    "4. Are Age and Transported related\n",
    "5. Are VIP and Transported related\n",
    "6. Are RoomService and Transported related\n",
    "7. Are FoodCourt and Transported related\n",
    "8. Are ShoppingMall and Transported related\n",
    "9. Are Spa and Transported related\n",
    "10. Are VRDeck and Transported related\n",
    "11. Are Name and Transported related"
   ]
  },
  {
   "cell_type": "markdown",
   "id": "6db82aaa",
   "metadata": {},
   "source": [
    "### 1. Does HomePlane have any relation to Transported?"
   ]
  },
  {
   "cell_type": "code",
   "execution_count": 7,
   "id": "eb15efff",
   "metadata": {},
   "outputs": [
    {
     "data": {
      "image/png": "[encoded data removed]",
      "text/plain": [
       "<Figure size 432x288 with 1 Axes>"
      ]
     },
     "metadata": {
      "needs_background": "light"
     },
     "output_type": "display_data"
    }
   ],
   "source": [
    "df = train.groupby(['HomePlanet', 'Transported']).size().unstack().plot(kind='bar', stacked=True)"
   ]
  },
  {
   "cell_type": "markdown",
   "id": "3a1e8cd2",
   "metadata": {},
   "source": [
    "### What is percentage of tranported to non-transported in each category of planet"
   ]
  },
  {
   "cell_type": "code",
   "execution_count": 16,
   "id": "5203141b",
   "metadata": {},
   "outputs": [
    {
     "data": {
      "image/png": "[encoded data removed]",
      "text/plain": [
       "<Figure size 432x288 with 1 Axes>"
      ]
     },
     "metadata": {
      "needs_background": "light"
     },
     "output_type": "display_data"
    }
   ],
   "source": [
    "counts = train.groupby(['HomePlanet', 'Transported']).size()\n",
    "totals = counts.groupby(level=0).sum()\n",
    "df_perc = counts.div(totals, level='HomePlanet') * 100\n",
    "df_perc.unstack().plot(kind='bar', stacked=True)\n",
    "\n",
    "# Set the axis labels and title\n",
    "plt.xlabel('HomePlanet')\n",
    "plt.ylabel('Transported Percentage')\n",
    "plt.title('HomePlanet and Transported Distribution')\n",
    "plt.show()"
   ]
  },
  {
   "cell_type": "markdown",
   "id": "5c96e5a6",
   "metadata": {},
   "source": [
    "### Perform a chi-squared test of independence between 'HomePlanet' and 'Transported'"
   ]
  },
  {
   "cell_type": "code",
   "execution_count": 20,
   "id": "66269783",
   "metadata": {},
   "outputs": [
    {
     "name": "stdout",
     "output_type": "stream",
     "text": [
      "Chi-squared test results:\n",
      "chi2: 324.9013834000382\n",
      "p-value: 2.809059985251311e-71\n",
      "degrees of freedom: 2\n",
      "expected frequencies:\n",
      " [[2285.28426755 2316.71573245]\n",
      " [1058.22268017 1072.77731983]\n",
      " [ 873.49305228  885.50694772]]\n"
     ]
    }
   ],
   "source": [
    "crosstab = pd.crosstab(train['HomePlanet'], train['Transported'])\n",
    "chi2, pval, dof, expected = stats.chi2_contingency(crosstab)\n",
    "\n",
    "# Print the results of the chi-squared test\n",
    "print('Chi-squared test results:')\n",
    "print('chi2:', chi2)\n",
    "print('p-value:', pval)\n",
    "print('degrees of freedom:', dof)\n",
    "print('expected frequencies:\\n', expected)"
   ]
  },
  {
   "cell_type": "markdown",
   "id": "81a38d47",
   "metadata": {},
   "source": [
    "We get a very small p-value i.e. our null hypothesis(there is no relation between the two categorical variables) is false. Therefore <b>HomePlanet</b> and <b>Transported</b> are highly related"
   ]
  },
  {
   "cell_type": "markdown",
   "id": "e98c8d7e",
   "metadata": {},
   "source": [
    "### 2. Are CryoSleep and Transported related"
   ]
  },
  {
   "cell_type": "code",
   "execution_count": 22,
   "id": "66b7ea2e",
   "metadata": {},
   "outputs": [
    {
     "data": {
      "image/png": "[encoded data removed]",
      "text/plain": [
       "<Figure size 432x288 with 1 Axes>"
      ]
     },
     "metadata": {
      "needs_background": "light"
     },
     "output_type": "display_data"
    }
   ],
   "source": [
    "df = train.groupby(['CryoSleep', 'Transported']).size().unstack().plot(kind='bar', stacked=True)"
   ]
  },
  {
   "cell_type": "code",
   "execution_count": 23,
   "id": "a944d76f",
   "metadata": {},
   "outputs": [
    {
     "data": {
      "image/png": "[encoded data removed]",
      "text/plain": [
       "<Figure size 432x288 with 1 Axes>"
      ]
     },
     "metadata": {
      "needs_background": "light"
     },
     "output_type": "display_data"
    }
   ],
   "source": [
    "counts = train.groupby(['CryoSleep', 'Transported']).size()\n",
    "totals = counts.groupby(level=0).sum()\n",
    "df_perc = counts.div(totals, level='CryoSleep') * 100\n",
    "df_perc.unstack().plot(kind='bar', stacked=True)\n",
    "\n",
    "# Set the axis labels and title\n",
    "plt.xlabel('CryoSleep')\n",
    "plt.ylabel('Transported Percentage')\n",
    "plt.title('CryoSleep and Transported Distribution')\n",
    "plt.show()"
   ]
  },
  {
   "cell_type": "code",
   "execution_count": 24,
   "id": "ef33c919",
   "metadata": {},
   "outputs": [
    {
     "name": "stdout",
     "output_type": "stream",
     "text": [
      "Chi-squared test results:\n",
      "chi2: 1859.6127129888841\n",
      "p-value: 0.0\n",
      "degrees of freedom: 1\n",
      "expected frequencies:\n",
      " [[2697.68239736 2741.31760264]\n",
      " [1506.31760264 1530.68239736]]\n"
     ]
    }
   ],
   "source": [
    "crosstab = pd.crosstab(train['CryoSleep'], train['Transported'])\n",
    "chi2, pval, dof, expected = stats.chi2_contingency(crosstab)\n",
    "\n",
    "# Print the results of the chi-squared test\n",
    "print('Chi-squared test results:')\n",
    "print('chi2:', chi2)\n",
    "print('p-value:', pval)\n",
    "print('degrees of freedom:', dof)\n",
    "print('expected frequencies:\\n', expected)"
   ]
  },
  {
   "cell_type": "markdown",
   "id": "112e1b72",
   "metadata": {},
   "source": [
    "We get a very small p-value of 0. Therefore <b>CryoSleep</b> and <b>Transported</b> are highly related\n",
    "\n",
    "However, it is important to note that a p-value of 0.0 does not necessarily mean that the observed effect is practically or clinically significant. For example, a study may find a statistically significant difference in weight loss between two groups of participants, but the difference in weight loss may be only a few grams, which may not be meaningful in terms of practical or clinical significance. In such cases, it is important to consider the effect size, the context of the study, and other relevant factors in interpreting the results and making decisions.\n",
    "\n",
    "<b>Basically don't bet your entire career on a single p-value</b>"
   ]
  },
  {
   "cell_type": "markdown",
   "id": "73576841",
   "metadata": {},
   "source": [
    "### 3. Are Cabin and Transported related"
   ]
  },
  {
   "cell_type": "code",
   "execution_count": 14,
   "id": "d849dc9d",
   "metadata": {},
   "outputs": [
    {
     "name": "stdout",
     "output_type": "stream",
     "text": [
      "0          B/0/P\n",
      "1          F/0/S\n",
      "2          A/0/S\n",
      "3          A/0/S\n",
      "4          F/1/S\n",
      "          ...   \n",
      "8688      A/98/P\n",
      "8689    G/1499/S\n",
      "8690    G/1500/S\n",
      "8691     E/608/S\n",
      "8692     E/608/S\n",
      "Name: Cabin, Length: 8693, dtype: object\n"
     ]
    }
   ],
   "source": [
    "# df = train.groupby([\"Cabin\",\"Transported\"]).size().unstack().plot(kind=\"bar\", stacked=True)\n",
    "print(train['Cabin'])\n",
    "df = pd.DataFrame()\n",
    "df[['class', 'seat_number', 'status']] = train['Cabin'].str.split('/', expand=True)\n",
    "df['Transported'] = train['Transported']"
   ]
  },
  {
   "cell_type": "code",
   "execution_count": 17,
   "id": "c5535a6e",
   "metadata": {},
   "outputs": [
    {
     "data": {
      "image/png": "[encoded data removed]",
      "text/plain": [
       "<Figure size 432x288 with 1 Axes>"
      ]
     },
     "metadata": {
      "needs_background": "light"
     },
     "output_type": "display_data"
    },
    {
     "data": {
      "image/png": "[encoded data removed]",
      "text/plain": [
       "<Figure size 432x288 with 1 Axes>"
      ]
     },
     "metadata": {
      "needs_background": "light"
     },
     "output_type": "display_data"
    }
   ],
   "source": [
    "df.groupby([\"class\",\"Transported\"]).size().unstack().plot(kind=\"bar\", stacked=True)\n",
    "\n",
    "counts = df.groupby(['class', 'Transported']).size()\n",
    "totals = counts.groupby(level=0).sum()\n",
    "df_perc = counts.div(totals, level='class') * 100\n",
    "df_perc.unstack().plot(kind='bar', stacked=True)\n",
    "\n",
    "# Set the axis labels and title\n",
    "plt.xlabel('class')\n",
    "plt.ylabel('Transported Percentage')\n",
    "plt.title('CryoSleep and Transported Distribution')\n",
    "plt.show()"
   ]
  },
  {
   "cell_type": "markdown",
   "id": "c882879f",
   "metadata": {},
   "source": [
    "### 4. Are Age and Transported related"
   ]
  },
  {
   "cell_type": "markdown",
   "id": "87dd9e23",
   "metadata": {},
   "source": [
    "### 5. Are VIP and Transported related"
   ]
  },
  {
   "cell_type": "markdown",
   "id": "d25b5577",
   "metadata": {},
   "source": [
    "### 6. Are RoomService and Transported related"
   ]
  },
  {
   "cell_type": "markdown",
   "id": "8fada57c",
   "metadata": {},
   "source": [
    "### 7. Are FoodCourt and Transported related"
   ]
  },
  {
   "cell_type": "markdown",
   "id": "09f87a77",
   "metadata": {},
   "source": [
    "### 8. Are ShoppingMall and Transported related"
   ]
  },
  {
   "cell_type": "markdown",
   "id": "0357daeb",
   "metadata": {},
   "source": [
    "### 9. Are Spa and Transported related"
   ]
  },
  {
   "cell_type": "markdown",
   "id": "a9f1c23f",
   "metadata": {},
   "source": [
    "### 10. Are VRDeck and Transported related"
   ]
  },
  {
   "cell_type": "markdown",
   "id": "1dbbb021",
   "metadata": {},
   "source": [
    "### 11. Are Name and Transported related"
   ]
  },
  {
   "cell_type": "code",
   "execution_count": null,
   "id": "eb54cad3",
   "metadata": {},
   "outputs": [],
   "source": []
  }
 ],
 "metadata": {
  "kernelspec": {
   "display_name": "Python 3 (ipykernel)",
   "language": "python",
   "name": "python3"
  },
  "language_info": {
   "codemirror_mode": {
    "name": "ipython",
    "version": 3
   },
   "file_extension": ".py",
   "mimetype": "text/x-python",
   "name": "python",
   "nbconvert_exporter": "python",
   "pygments_lexer": "ipython3",
   "version": "3.9.7"
  }
 },
 "nbformat": 4,
 "nbformat_minor": 5
}
