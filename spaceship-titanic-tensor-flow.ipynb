{
 "cells": [
  {
   "cell_type": "markdown",
   "id": "a589f440",
   "metadata": {
    "papermill": {
     "duration": 0.013144,
     "end_time": "2023-03-10T05:28:17.235967",
     "exception": false,
     "start_time": "2023-03-10T05:28:17.222823",
     "status": "completed"
    },
    "tags": []
   },
   "source": [
    "# Prepare Data for Processing"
   ]
  },
  {
   "cell_type": "code",
   "execution_count": 1,
   "id": "edffea2c",
   "metadata": {
    "_cell_guid": "b1076dfc-b9ad-4769-8c92-a6c4dae69d19",
    "_uuid": "8f2839f25d086af736a60e9eeb907d3b93b6e0e5",
    "execution": {
     "iopub.execute_input": "2023-03-10T05:28:17.262056Z",
     "iopub.status.busy": "2023-03-10T05:28:17.261363Z",
     "iopub.status.idle": "2023-03-10T05:28:17.275023Z",
     "shell.execute_reply": "2023-03-10T05:28:17.273777Z"
    },
    "papermill": {
     "duration": 0.030448,
     "end_time": "2023-03-10T05:28:17.278362",
     "exception": false,
     "start_time": "2023-03-10T05:28:17.247914",
     "status": "completed"
    },
    "tags": []
   },
   "outputs": [
    {
     "name": "stdout",
     "output_type": "stream",
     "text": [
      "/kaggle/input/spaceship-titanic/sample_submission.csv\n",
      "/kaggle/input/spaceship-titanic/train.csv\n",
      "/kaggle/input/spaceship-titanic/test.csv\n"
     ]
    }
   ],
   "source": [
    "# Load libraries\n",
    "import numpy as np # linear algebra\n",
    "import pandas as pd # data processing, CSV file I/O (e.g. pd.read_csv)\n",
    "import matplotlib.pyplot as plt\n",
    "import os\n",
    "for dirname, _, filenames in os.walk('/kaggle/input'):\n",
    "    for filename in filenames:\n",
    "        print(os.path.join(dirname, filename))\n",
    "\n"
   ]
  },
  {
   "cell_type": "code",
   "execution_count": 2,
   "id": "921c857e",
   "metadata": {
    "execution": {
     "iopub.execute_input": "2023-03-10T05:28:17.306992Z",
     "iopub.status.busy": "2023-03-10T05:28:17.306585Z",
     "iopub.status.idle": "2023-03-10T05:28:17.427335Z",
     "shell.execute_reply": "2023-03-10T05:28:17.425987Z"
    },
    "papermill": {
     "duration": 0.138937,
     "end_time": "2023-03-10T05:28:17.429930",
     "exception": false,
     "start_time": "2023-03-10T05:28:17.290993",
     "status": "completed"
    },
    "tags": []
   },
   "outputs": [
    {
     "data": {
      "text/html": [
       "<div>\n",
       "<style scoped>\n",
       "    .dataframe tbody tr th:only-of-type {\n",
       "        vertical-align: middle;\n",
       "    }\n",
       "\n",
       "    .dataframe tbody tr th {\n",
       "        vertical-align: top;\n",
       "    }\n",
       "\n",
       "    .dataframe thead th {\n",
       "        text-align: right;\n",
       "    }\n",
       "</style>\n",
       "<table border=\"1\" class=\"dataframe\">\n",
       "  <thead>\n",
       "    <tr style=\"text-align: right;\">\n",
       "      <th></th>\n",
       "      <th>PassengerId</th>\n",
       "      <th>HomePlanet</th>\n",
       "      <th>CryoSleep</th>\n",
       "      <th>Cabin</th>\n",
       "      <th>Destination</th>\n",
       "      <th>Age</th>\n",
       "      <th>VIP</th>\n",
       "      <th>RoomService</th>\n",
       "      <th>FoodCourt</th>\n",
       "      <th>ShoppingMall</th>\n",
       "      <th>Spa</th>\n",
       "      <th>VRDeck</th>\n",
       "      <th>Name</th>\n",
       "      <th>Transported</th>\n",
       "    </tr>\n",
       "  </thead>\n",
       "  <tbody>\n",
       "    <tr>\n",
       "      <th>0</th>\n",
       "      <td>0001_01</td>\n",
       "      <td>Europa</td>\n",
       "      <td>False</td>\n",
       "      <td>B/0/P</td>\n",
       "      <td>TRAPPIST-1e</td>\n",
       "      <td>39.0</td>\n",
       "      <td>False</td>\n",
       "      <td>0.0</td>\n",
       "      <td>0.0</td>\n",
       "      <td>0.0</td>\n",
       "      <td>0.0</td>\n",
       "      <td>0.0</td>\n",
       "      <td>Maham Ofracculy</td>\n",
       "      <td>False</td>\n",
       "    </tr>\n",
       "    <tr>\n",
       "      <th>1</th>\n",
       "      <td>0002_01</td>\n",
       "      <td>Earth</td>\n",
       "      <td>False</td>\n",
       "      <td>F/0/S</td>\n",
       "      <td>TRAPPIST-1e</td>\n",
       "      <td>24.0</td>\n",
       "      <td>False</td>\n",
       "      <td>109.0</td>\n",
       "      <td>9.0</td>\n",
       "      <td>25.0</td>\n",
       "      <td>549.0</td>\n",
       "      <td>44.0</td>\n",
       "      <td>Juanna Vines</td>\n",
       "      <td>True</td>\n",
       "    </tr>\n",
       "    <tr>\n",
       "      <th>2</th>\n",
       "      <td>0003_01</td>\n",
       "      <td>Europa</td>\n",
       "      <td>False</td>\n",
       "      <td>A/0/S</td>\n",
       "      <td>TRAPPIST-1e</td>\n",
       "      <td>58.0</td>\n",
       "      <td>True</td>\n",
       "      <td>43.0</td>\n",
       "      <td>3576.0</td>\n",
       "      <td>0.0</td>\n",
       "      <td>6715.0</td>\n",
       "      <td>49.0</td>\n",
       "      <td>Altark Susent</td>\n",
       "      <td>False</td>\n",
       "    </tr>\n",
       "    <tr>\n",
       "      <th>3</th>\n",
       "      <td>0003_02</td>\n",
       "      <td>Europa</td>\n",
       "      <td>False</td>\n",
       "      <td>A/0/S</td>\n",
       "      <td>TRAPPIST-1e</td>\n",
       "      <td>33.0</td>\n",
       "      <td>False</td>\n",
       "      <td>0.0</td>\n",
       "      <td>1283.0</td>\n",
       "      <td>371.0</td>\n",
       "      <td>3329.0</td>\n",
       "      <td>193.0</td>\n",
       "      <td>Solam Susent</td>\n",
       "      <td>False</td>\n",
       "    </tr>\n",
       "    <tr>\n",
       "      <th>4</th>\n",
       "      <td>0004_01</td>\n",
       "      <td>Earth</td>\n",
       "      <td>False</td>\n",
       "      <td>F/1/S</td>\n",
       "      <td>TRAPPIST-1e</td>\n",
       "      <td>16.0</td>\n",
       "      <td>False</td>\n",
       "      <td>303.0</td>\n",
       "      <td>70.0</td>\n",
       "      <td>151.0</td>\n",
       "      <td>565.0</td>\n",
       "      <td>2.0</td>\n",
       "      <td>Willy Santantines</td>\n",
       "      <td>True</td>\n",
       "    </tr>\n",
       "    <tr>\n",
       "      <th>5</th>\n",
       "      <td>0005_01</td>\n",
       "      <td>Earth</td>\n",
       "      <td>False</td>\n",
       "      <td>F/0/P</td>\n",
       "      <td>PSO J318.5-22</td>\n",
       "      <td>44.0</td>\n",
       "      <td>False</td>\n",
       "      <td>0.0</td>\n",
       "      <td>483.0</td>\n",
       "      <td>0.0</td>\n",
       "      <td>291.0</td>\n",
       "      <td>0.0</td>\n",
       "      <td>Sandie Hinetthews</td>\n",
       "      <td>True</td>\n",
       "    </tr>\n",
       "    <tr>\n",
       "      <th>6</th>\n",
       "      <td>0006_01</td>\n",
       "      <td>Earth</td>\n",
       "      <td>False</td>\n",
       "      <td>F/2/S</td>\n",
       "      <td>TRAPPIST-1e</td>\n",
       "      <td>26.0</td>\n",
       "      <td>False</td>\n",
       "      <td>42.0</td>\n",
       "      <td>1539.0</td>\n",
       "      <td>3.0</td>\n",
       "      <td>0.0</td>\n",
       "      <td>0.0</td>\n",
       "      <td>Billex Jacostaffey</td>\n",
       "      <td>True</td>\n",
       "    </tr>\n",
       "    <tr>\n",
       "      <th>7</th>\n",
       "      <td>0006_02</td>\n",
       "      <td>Earth</td>\n",
       "      <td>True</td>\n",
       "      <td>G/0/S</td>\n",
       "      <td>TRAPPIST-1e</td>\n",
       "      <td>28.0</td>\n",
       "      <td>False</td>\n",
       "      <td>0.0</td>\n",
       "      <td>0.0</td>\n",
       "      <td>0.0</td>\n",
       "      <td>0.0</td>\n",
       "      <td>NaN</td>\n",
       "      <td>Candra Jacostaffey</td>\n",
       "      <td>True</td>\n",
       "    </tr>\n",
       "    <tr>\n",
       "      <th>8</th>\n",
       "      <td>0007_01</td>\n",
       "      <td>Earth</td>\n",
       "      <td>False</td>\n",
       "      <td>F/3/S</td>\n",
       "      <td>TRAPPIST-1e</td>\n",
       "      <td>35.0</td>\n",
       "      <td>False</td>\n",
       "      <td>0.0</td>\n",
       "      <td>785.0</td>\n",
       "      <td>17.0</td>\n",
       "      <td>216.0</td>\n",
       "      <td>0.0</td>\n",
       "      <td>Andona Beston</td>\n",
       "      <td>True</td>\n",
       "    </tr>\n",
       "    <tr>\n",
       "      <th>9</th>\n",
       "      <td>0008_01</td>\n",
       "      <td>Europa</td>\n",
       "      <td>True</td>\n",
       "      <td>B/1/P</td>\n",
       "      <td>55 Cancri e</td>\n",
       "      <td>14.0</td>\n",
       "      <td>False</td>\n",
       "      <td>0.0</td>\n",
       "      <td>0.0</td>\n",
       "      <td>0.0</td>\n",
       "      <td>0.0</td>\n",
       "      <td>0.0</td>\n",
       "      <td>Erraiam Flatic</td>\n",
       "      <td>True</td>\n",
       "    </tr>\n",
       "  </tbody>\n",
       "</table>\n",
       "</div>"
      ],
      "text/plain": [
       "  PassengerId HomePlanet CryoSleep  Cabin    Destination   Age    VIP  \\\n",
       "0     0001_01     Europa     False  B/0/P    TRAPPIST-1e  39.0  False   \n",
       "1     0002_01      Earth     False  F/0/S    TRAPPIST-1e  24.0  False   \n",
       "2     0003_01     Europa     False  A/0/S    TRAPPIST-1e  58.0   True   \n",
       "3     0003_02     Europa     False  A/0/S    TRAPPIST-1e  33.0  False   \n",
       "4     0004_01      Earth     False  F/1/S    TRAPPIST-1e  16.0  False   \n",
       "5     0005_01      Earth     False  F/0/P  PSO J318.5-22  44.0  False   \n",
       "6     0006_01      Earth     False  F/2/S    TRAPPIST-1e  26.0  False   \n",
       "7     0006_02      Earth      True  G/0/S    TRAPPIST-1e  28.0  False   \n",
       "8     0007_01      Earth     False  F/3/S    TRAPPIST-1e  35.0  False   \n",
       "9     0008_01     Europa      True  B/1/P    55 Cancri e  14.0  False   \n",
       "\n",
       "   RoomService  FoodCourt  ShoppingMall     Spa  VRDeck                Name  \\\n",
       "0          0.0        0.0           0.0     0.0     0.0     Maham Ofracculy   \n",
       "1        109.0        9.0          25.0   549.0    44.0        Juanna Vines   \n",
       "2         43.0     3576.0           0.0  6715.0    49.0       Altark Susent   \n",
       "3          0.0     1283.0         371.0  3329.0   193.0        Solam Susent   \n",
       "4        303.0       70.0         151.0   565.0     2.0   Willy Santantines   \n",
       "5          0.0      483.0           0.0   291.0     0.0   Sandie Hinetthews   \n",
       "6         42.0     1539.0           3.0     0.0     0.0  Billex Jacostaffey   \n",
       "7          0.0        0.0           0.0     0.0     NaN  Candra Jacostaffey   \n",
       "8          0.0      785.0          17.0   216.0     0.0       Andona Beston   \n",
       "9          0.0        0.0           0.0     0.0     0.0      Erraiam Flatic   \n",
       "\n",
       "   Transported  \n",
       "0        False  \n",
       "1         True  \n",
       "2        False  \n",
       "3        False  \n",
       "4         True  \n",
       "5         True  \n",
       "6         True  \n",
       "7         True  \n",
       "8         True  \n",
       "9         True  "
      ]
     },
     "execution_count": 2,
     "metadata": {},
     "output_type": "execute_result"
    }
   ],
   "source": [
    "# Load Data into Pandas DataFrame\n",
    "train = pd.read_csv(\"/kaggle/input/spaceship-titanic/train.csv\")\n",
    "test=pd.read_csv('/kaggle/input/spaceship-titanic/test.csv')\n",
    "train.head(10)"
   ]
  },
  {
   "cell_type": "code",
   "execution_count": 3,
   "id": "0c0be072",
   "metadata": {
    "execution": {
     "iopub.execute_input": "2023-03-10T05:28:17.456932Z",
     "iopub.status.busy": "2023-03-10T05:28:17.455947Z",
     "iopub.status.idle": "2023-03-10T05:28:17.462363Z",
     "shell.execute_reply": "2023-03-10T05:28:17.461007Z"
    },
    "papermill": {
     "duration": 0.023355,
     "end_time": "2023-03-10T05:28:17.465785",
     "exception": false,
     "start_time": "2023-03-10T05:28:17.442430",
     "status": "completed"
    },
    "tags": []
   },
   "outputs": [
    {
     "name": "stdout",
     "output_type": "stream",
     "text": [
      "Train shape:  (8693, 14) Test shape: (4277, 13)\n"
     ]
    }
   ],
   "source": [
    "print(\"Train shape: \",train.shape,\"Test shape:\",test.shape)"
   ]
  },
  {
   "cell_type": "code",
   "execution_count": 4,
   "id": "3cda9b4e",
   "metadata": {
    "execution": {
     "iopub.execute_input": "2023-03-10T05:28:17.493541Z",
     "iopub.status.busy": "2023-03-10T05:28:17.492735Z",
     "iopub.status.idle": "2023-03-10T05:28:17.499746Z",
     "shell.execute_reply": "2023-03-10T05:28:17.498539Z"
    },
    "papermill": {
     "duration": 0.023844,
     "end_time": "2023-03-10T05:28:17.502553",
     "exception": false,
     "start_time": "2023-03-10T05:28:17.478709",
     "status": "completed"
    },
    "tags": []
   },
   "outputs": [
    {
     "name": "stdout",
     "output_type": "stream",
     "text": [
      "Train columns: \n",
      " Index(['PassengerId', 'HomePlanet', 'CryoSleep', 'Cabin', 'Destination', 'Age',\n",
      "       'VIP', 'RoomService', 'FoodCourt', 'ShoppingMall', 'Spa', 'VRDeck',\n",
      "       'Name', 'Transported'],\n",
      "      dtype='object') \n",
      "\n",
      " Test columns: \n",
      " Index(['PassengerId', 'HomePlanet', 'CryoSleep', 'Cabin', 'Destination', 'Age',\n",
      "       'VIP', 'RoomService', 'FoodCourt', 'ShoppingMall', 'Spa', 'VRDeck',\n",
      "       'Name'],\n",
      "      dtype='object')\n"
     ]
    }
   ],
   "source": [
    "# List column names\n",
    "print(\"Train columns: \\n\",train.columns,\"\\n\\n\",\"Test columns: \\n\",test.columns)\n"
   ]
  },
  {
   "cell_type": "code",
   "execution_count": 5,
   "id": "814b4926",
   "metadata": {
    "execution": {
     "iopub.execute_input": "2023-03-10T05:28:17.531151Z",
     "iopub.status.busy": "2023-03-10T05:28:17.530228Z",
     "iopub.status.idle": "2023-03-10T05:28:17.540199Z",
     "shell.execute_reply": "2023-03-10T05:28:17.538499Z"
    },
    "papermill": {
     "duration": 0.026305,
     "end_time": "2023-03-10T05:28:17.542459",
     "exception": false,
     "start_time": "2023-03-10T05:28:17.516154",
     "status": "completed"
    },
    "tags": []
   },
   "outputs": [
    {
     "name": "stdout",
     "output_type": "stream",
     "text": [
      "Train columns: \n",
      " PassengerId      object\n",
      "HomePlanet       object\n",
      "CryoSleep        object\n",
      "Cabin            object\n",
      "Destination      object\n",
      "Age             float64\n",
      "VIP              object\n",
      "RoomService     float64\n",
      "FoodCourt       float64\n",
      "ShoppingMall    float64\n",
      "Spa             float64\n",
      "VRDeck          float64\n",
      "Name             object\n",
      "Transported        bool\n",
      "dtype: object \n",
      "\n",
      " Test columns: \n",
      " PassengerId      object\n",
      "HomePlanet       object\n",
      "CryoSleep        object\n",
      "Cabin            object\n",
      "Destination      object\n",
      "Age             float64\n",
      "VIP              object\n",
      "RoomService     float64\n",
      "FoodCourt       float64\n",
      "ShoppingMall    float64\n",
      "Spa             float64\n",
      "VRDeck          float64\n",
      "Name             object\n",
      "dtype: object\n"
     ]
    }
   ],
   "source": [
    "# List column data types\n",
    "print(\"Train columns: \\n\",train.dtypes,\"\\n\\n\",\"Test columns: \\n\",test.dtypes)"
   ]
  },
  {
   "cell_type": "code",
   "execution_count": 6,
   "id": "1d43dc1b",
   "metadata": {
    "execution": {
     "iopub.execute_input": "2023-03-10T05:28:17.569906Z",
     "iopub.status.busy": "2023-03-10T05:28:17.569267Z",
     "iopub.status.idle": "2023-03-10T05:28:17.596791Z",
     "shell.execute_reply": "2023-03-10T05:28:17.595595Z"
    },
    "papermill": {
     "duration": 0.044197,
     "end_time": "2023-03-10T05:28:17.599294",
     "exception": false,
     "start_time": "2023-03-10T05:28:17.555097",
     "status": "completed"
    },
    "tags": []
   },
   "outputs": [
    {
     "name": "stdout",
     "output_type": "stream",
     "text": [
      "Train unique values: \n",
      " PassengerId     8693\n",
      "HomePlanet         3\n",
      "CryoSleep          2\n",
      "Cabin           6560\n",
      "Destination        3\n",
      "Age               80\n",
      "VIP                2\n",
      "RoomService     1273\n",
      "FoodCourt       1507\n",
      "ShoppingMall    1115\n",
      "Spa             1327\n",
      "VRDeck          1306\n",
      "Name            8473\n",
      "Transported        2\n",
      "dtype: int64 \n",
      "\n",
      " Test unique values: \n",
      " PassengerId     4277\n",
      "HomePlanet         3\n",
      "CryoSleep          2\n",
      "Cabin           3265\n",
      "Destination        3\n",
      "Age               79\n",
      "VIP                2\n",
      "RoomService      842\n",
      "FoodCourt        902\n",
      "ShoppingMall     715\n",
      "Spa              833\n",
      "VRDeck           796\n",
      "Name            4176\n",
      "dtype: int64\n"
     ]
    }
   ],
   "source": [
    "# Count of unique values\n",
    "print(\"Train unique values: \\n\",train.nunique(),\"\\n\\n\",\"Test unique values: \\n\", test.nunique())"
   ]
  },
  {
   "cell_type": "code",
   "execution_count": 7,
   "id": "31719f23",
   "metadata": {
    "execution": {
     "iopub.execute_input": "2023-03-10T05:28:17.626590Z",
     "iopub.status.busy": "2023-03-10T05:28:17.625794Z",
     "iopub.status.idle": "2023-03-10T05:28:17.635127Z",
     "shell.execute_reply": "2023-03-10T05:28:17.633583Z"
    },
    "papermill": {
     "duration": 0.026091,
     "end_time": "2023-03-10T05:28:17.637964",
     "exception": false,
     "start_time": "2023-03-10T05:28:17.611873",
     "status": "completed"
    },
    "tags": []
   },
   "outputs": [
    {
     "name": "stdout",
     "output_type": "stream",
     "text": [
      "Train distinct values: \n",
      " ['Europa' 'Earth' 'Mars' nan] \n",
      "\n",
      " Test distinct values: \n",
      " ['Earth' 'Europa' 'Mars' nan]\n"
     ]
    }
   ],
   "source": [
    "# List of unique values 'HomePlanet'\n",
    "print(\"Train distinct values: \\n\",train['HomePlanet'].unique(),\"\\n\\n\",\"Test distinct values: \\n\",  test['HomePlanet'].unique())"
   ]
  },
  {
   "cell_type": "code",
   "execution_count": 8,
   "id": "cb80b721",
   "metadata": {
    "execution": {
     "iopub.execute_input": "2023-03-10T05:28:17.666052Z",
     "iopub.status.busy": "2023-03-10T05:28:17.665623Z",
     "iopub.status.idle": "2023-03-10T05:28:17.673281Z",
     "shell.execute_reply": "2023-03-10T05:28:17.671652Z"
    },
    "papermill": {
     "duration": 0.024996,
     "end_time": "2023-03-10T05:28:17.675783",
     "exception": false,
     "start_time": "2023-03-10T05:28:17.650787",
     "status": "completed"
    },
    "tags": []
   },
   "outputs": [
    {
     "name": "stdout",
     "output_type": "stream",
     "text": [
      "Train distinct values: \n",
      " ['TRAPPIST-1e' 'PSO J318.5-22' '55 Cancri e' nan] \n",
      "\n",
      " Test distinct values: \n",
      " ['TRAPPIST-1e' '55 Cancri e' 'PSO J318.5-22' nan]\n"
     ]
    }
   ],
   "source": [
    "# List of unique values 'Destination'\n",
    "print(\"Train distinct values: \\n\",train['Destination'].unique(),\"\\n\\n\",\"Test distinct values: \\n\",  test['Destination'].unique())"
   ]
  },
  {
   "cell_type": "markdown",
   "id": "116794f3",
   "metadata": {
    "papermill": {
     "duration": 0.012296,
     "end_time": "2023-03-10T05:28:17.701153",
     "exception": false,
     "start_time": "2023-03-10T05:28:17.688857",
     "status": "completed"
    },
    "tags": []
   },
   "source": [
    "**Transformations to Numerical for ease of Modeling**\n",
    "* PassengerId      object\n",
    "* HomePlanet       object  - 3 unique values. Convert to integer\n",
    "* CryoSleep        object  - Values are False/True convert to int64 0/1\n",
    "* Cabin            object  - Too many unique values, one hot encoding will not work\n",
    "* Destination      object  - 3 unique values. Convert to integer\n",
    "* Age             float64\n",
    "* VIP              object  - Values are False/True convert to int64 0/1\n",
    "* RoomService     float64\n",
    "* FoodCourt       float64\n",
    "* ShoppingMall    float64\n",
    "* Spa             float64\n",
    "* VRDeck          float64\n",
    "* Name             object\n",
    "* Transported        bool  - Values are False/True convert to int64 0/1"
   ]
  },
  {
   "cell_type": "markdown",
   "id": "6f6581a8",
   "metadata": {
    "papermill": {
     "duration": 0.012691,
     "end_time": "2023-03-10T05:28:17.726437",
     "exception": false,
     "start_time": "2023-03-10T05:28:17.713746",
     "status": "completed"
    },
    "tags": []
   },
   "source": [
    "# Process Data for Analysis"
   ]
  },
  {
   "cell_type": "code",
   "execution_count": 9,
   "id": "55bb69fa",
   "metadata": {
    "execution": {
     "iopub.execute_input": "2023-03-10T05:28:17.754300Z",
     "iopub.status.busy": "2023-03-10T05:28:17.753341Z",
     "iopub.status.idle": "2023-03-10T05:28:17.764745Z",
     "shell.execute_reply": "2023-03-10T05:28:17.763034Z"
    },
    "papermill": {
     "duration": 0.028025,
     "end_time": "2023-03-10T05:28:17.767178",
     "exception": false,
     "start_time": "2023-03-10T05:28:17.739153",
     "status": "completed"
    },
    "tags": []
   },
   "outputs": [
    {
     "name": "stdout",
     "output_type": "stream",
     "text": [
      "Train: There are 0 duplicate IDs for 8693 total entries\n",
      "Test: There are 0 duplicate IDs for 4277 total entries\n"
     ]
    }
   ],
   "source": [
    "# Check for duplicate Ids\n",
    "# Train\n",
    "idsUnique = len(set(train.PassengerId))\n",
    "idsTotal = train.shape[0]\n",
    "idsDupli = idsTotal - idsUnique\n",
    "print(\"Train: There are \" + str(idsDupli) + \" duplicate IDs for \" + str(idsTotal) + \" total entries\")\n",
    "\n",
    "# Test\n",
    "idsUnique = len(set(test.PassengerId))\n",
    "idsTotal = test.shape[0]\n",
    "idsDupli = idsTotal - idsUnique\n",
    "print(\"Test: There are \" + str(idsDupli) + \" duplicate IDs for \" + str(idsTotal) + \" total entries\")"
   ]
  },
  {
   "cell_type": "code",
   "execution_count": 10,
   "id": "f3ab580b",
   "metadata": {
    "execution": {
     "iopub.execute_input": "2023-03-10T05:28:17.794938Z",
     "iopub.status.busy": "2023-03-10T05:28:17.794182Z",
     "iopub.status.idle": "2023-03-10T05:28:17.810927Z",
     "shell.execute_reply": "2023-03-10T05:28:17.808981Z"
    },
    "papermill": {
     "duration": 0.033919,
     "end_time": "2023-03-10T05:28:17.813749",
     "exception": false,
     "start_time": "2023-03-10T05:28:17.779830",
     "status": "completed"
    },
    "tags": []
   },
   "outputs": [
    {
     "name": "stdout",
     "output_type": "stream",
     "text": [
      "Train missing values: \n",
      " HomePlanet      201\n",
      "CryoSleep       217\n",
      "Cabin           199\n",
      "Destination     182\n",
      "Age             179\n",
      "VIP             203\n",
      "RoomService     181\n",
      "FoodCourt       183\n",
      "ShoppingMall    208\n",
      "Spa             183\n",
      "VRDeck          188\n",
      "Name            200\n",
      "dtype: int64 \n",
      "\n",
      " Test missing values: \n",
      " HomePlanet       87\n",
      "CryoSleep        93\n",
      "Cabin           100\n",
      "Destination      92\n",
      "Age              91\n",
      "VIP              93\n",
      "RoomService      82\n",
      "FoodCourt       106\n",
      "ShoppingMall     98\n",
      "Spa             101\n",
      "VRDeck           80\n",
      "Name             94\n",
      "dtype: int64\n"
     ]
    }
   ],
   "source": [
    "# Check for missing values\n",
    "# Train\n",
    "train_missing_val_count = (train.isnull().sum())\n",
    "# Test\n",
    "test_missing_val_count = (test.isnull().sum())\n",
    "print(\"Train missing values: \\n\",train_missing_val_count[train_missing_val_count>0],\"\\n\\n\",\"Test missing values: \\n\",  test_missing_val_count[test_missing_val_count>0])"
   ]
  },
  {
   "cell_type": "code",
   "execution_count": 11,
   "id": "4729ef34",
   "metadata": {
    "execution": {
     "iopub.execute_input": "2023-03-10T05:28:17.841071Z",
     "iopub.status.busy": "2023-03-10T05:28:17.840627Z",
     "iopub.status.idle": "2023-03-10T05:28:17.858902Z",
     "shell.execute_reply": "2023-03-10T05:28:17.857572Z"
    },
    "papermill": {
     "duration": 0.035344,
     "end_time": "2023-03-10T05:28:17.861861",
     "exception": false,
     "start_time": "2023-03-10T05:28:17.826517",
     "status": "completed"
    },
    "tags": []
   },
   "outputs": [],
   "source": [
    "# Fill missing values, ffill: propagate last valid observation forward\n",
    "# Train\n",
    "train = train.fillna(method='ffill')\n",
    "# Test\n",
    "test = test.fillna(method='ffill')"
   ]
  },
  {
   "cell_type": "code",
   "execution_count": 12,
   "id": "52f87e11",
   "metadata": {
    "execution": {
     "iopub.execute_input": "2023-03-10T05:28:17.889627Z",
     "iopub.status.busy": "2023-03-10T05:28:17.889194Z",
     "iopub.status.idle": "2023-03-10T05:28:17.905936Z",
     "shell.execute_reply": "2023-03-10T05:28:17.904373Z"
    },
    "papermill": {
     "duration": 0.033549,
     "end_time": "2023-03-10T05:28:17.908352",
     "exception": false,
     "start_time": "2023-03-10T05:28:17.874803",
     "status": "completed"
    },
    "tags": []
   },
   "outputs": [
    {
     "name": "stdout",
     "output_type": "stream",
     "text": [
      "Train missing values: \n",
      " Series([], dtype: int64) \n",
      "\n",
      " Test missing values: \n",
      " Series([], dtype: int64)\n"
     ]
    }
   ],
   "source": [
    "# Confirm no missing values\n",
    "# Train\n",
    "train_missing_val_count = (train.isnull().sum())\n",
    "# Test\n",
    "test_missing_val_count = (test.isnull().sum())\n",
    "print(\"Train missing values: \\n\",train_missing_val_count[train_missing_val_count>0],\"\\n\\n\",\"Test missing values: \\n\",  test_missing_val_count[test_missing_val_count>0])"
   ]
  },
  {
   "cell_type": "code",
   "execution_count": 13,
   "id": "945f49ce",
   "metadata": {
    "execution": {
     "iopub.execute_input": "2023-03-10T05:28:17.936559Z",
     "iopub.status.busy": "2023-03-10T05:28:17.936122Z",
     "iopub.status.idle": "2023-03-10T05:28:17.945619Z",
     "shell.execute_reply": "2023-03-10T05:28:17.944398Z"
    },
    "papermill": {
     "duration": 0.026894,
     "end_time": "2023-03-10T05:28:17.948154",
     "exception": false,
     "start_time": "2023-03-10T05:28:17.921260",
     "status": "completed"
    },
    "tags": []
   },
   "outputs": [],
   "source": [
    "# Transform False/True Data to 0/1\n",
    "#df['col1'] = df['col1'].astype(int)\n",
    "#Train\n",
    "train['CryoSleep']=train['CryoSleep'].astype(int)\n",
    "train['VIP']=train['VIP'].astype(int)\n",
    "train['Transported']=train['Transported'].astype(int)\n",
    "#Test\n",
    "test['CryoSleep']=test['CryoSleep'].astype(int)\n",
    "test['VIP']=test['VIP'].astype(int)"
   ]
  },
  {
   "cell_type": "code",
   "execution_count": 14,
   "id": "f42e4908",
   "metadata": {
    "execution": {
     "iopub.execute_input": "2023-03-10T05:28:17.976390Z",
     "iopub.status.busy": "2023-03-10T05:28:17.975960Z",
     "iopub.status.idle": "2023-03-10T05:28:17.999794Z",
     "shell.execute_reply": "2023-03-10T05:28:17.998390Z"
    },
    "papermill": {
     "duration": 0.041367,
     "end_time": "2023-03-10T05:28:18.002661",
     "exception": false,
     "start_time": "2023-03-10T05:28:17.961294",
     "status": "completed"
    },
    "tags": []
   },
   "outputs": [],
   "source": [
    "# Transform categorical data with 3 values to 0/1/2\n",
    "#df['col1'] = df['col1'].replace({'A': 0, 'B': 1, 'C': 2})\n",
    "#['Europa', 'Earth', 'Mars'] ['TRAPPIST-1e', 'PSO J318.5-22', '55 Cancri e']\n",
    "# Train\n",
    "train['HomePlanet']=train['HomePlanet'].replace({'Europa': 0, 'Earth': 1, 'Mars': 2})\n",
    "train['Destination']=train['Destination'].replace({'TRAPPIST-1e': 0, 'PSO J318.5-22': 1, '55 Cancri e': 2})\n",
    "# Test\n",
    "test['HomePlanet']=test['HomePlanet'].replace({'Europa': 0, 'Earth': 1, 'Mars': 2})\n",
    "test['Destination']=test['Destination'].replace({'TRAPPIST-1e': 0, 'PSO J318.5-22': 1, '55 Cancri e': 2})"
   ]
  },
  {
   "cell_type": "code",
   "execution_count": 15,
   "id": "a9c0ddca",
   "metadata": {
    "execution": {
     "iopub.execute_input": "2023-03-10T05:28:18.031818Z",
     "iopub.status.busy": "2023-03-10T05:28:18.031424Z",
     "iopub.status.idle": "2023-03-10T05:28:18.092387Z",
     "shell.execute_reply": "2023-03-10T05:28:18.090877Z"
    },
    "papermill": {
     "duration": 0.079161,
     "end_time": "2023-03-10T05:28:18.095186",
     "exception": false,
     "start_time": "2023-03-10T05:28:18.016025",
     "status": "completed"
    },
    "tags": []
   },
   "outputs": [
    {
     "name": "stdout",
     "output_type": "stream",
     "text": [
      "['B' 'F' 'A' 'G' 'E' 'D' 'C' 'T'] ['P' 'S']\n",
      "['G' 'F' 'C' 'B' 'D' 'E' 'A' 'T'] ['S' 'P']\n"
     ]
    }
   ],
   "source": [
    "# Cabin - The cabin number where the passenger is staying. \n",
    "#Takes the form deck/num/side, where side can be either P for Port or S for Starboard.\n",
    "#Split into three fields for deck, num and side\n",
    "#df[['col1', 'col2', 'col3']] = df['data'].str.split('/', n=2, expand=True)\n",
    "train[['Cabin_deck','Cabin_num','Cabin_side']]= train['Cabin'].str.split('/', n=2, expand=True)\n",
    "print (train['Cabin_deck'].unique(), train['Cabin_side'].unique())\n",
    "test[['Cabin_deck','Cabin_num','Cabin_side']]= test['Cabin'].str.split('/', n=2, expand=True)\n",
    "print (test['Cabin_deck'].unique(), test['Cabin_side'].unique())\n",
    "\n",
    "train['Cabin_deck']=train['Cabin_deck'].replace({'A': 1, 'B': 2, 'C':3, 'D':4, 'E':5, 'F':6, 'G':7, 'T':8})\n",
    "train['Cabin_side']=train['Cabin_side'].replace({'P': 0, 'S': 1})\n",
    "train['Cabin_num']=train['Cabin_num'].astype(int)\n",
    "\n",
    "test['Cabin_deck']=test['Cabin_deck'].replace({'A': 0, 'B': 1, 'C':2, 'D':3, 'E':4, 'F':5, 'G':6, 'T':7})\n",
    "test['Cabin_side']=test['Cabin_side'].replace({'P': 0, 'S': 1})\n",
    "test['Cabin_num']=test['Cabin_num'].astype(int)\n",
    "\n"
   ]
  },
  {
   "cell_type": "code",
   "execution_count": 16,
   "id": "6724bb59",
   "metadata": {
    "execution": {
     "iopub.execute_input": "2023-03-10T05:28:18.123458Z",
     "iopub.status.busy": "2023-03-10T05:28:18.123045Z",
     "iopub.status.idle": "2023-03-10T05:28:18.163126Z",
     "shell.execute_reply": "2023-03-10T05:28:18.161584Z"
    },
    "papermill": {
     "duration": 0.05736,
     "end_time": "2023-03-10T05:28:18.165797",
     "exception": false,
     "start_time": "2023-03-10T05:28:18.108437",
     "status": "completed"
    },
    "tags": []
   },
   "outputs": [],
   "source": [
    "# PassengerId - A unique Id for each passenger. \n",
    "#Each Id takes the form gggg_pp where gggg indicates a group the passenger \n",
    "#is travelling with and pp is their number within the group. \n",
    "#People in a group are often family members, but not always.\n",
    "train[['gggg','pp']] = train['PassengerId'].str.split('_', expand=True)\n",
    "train['gggg']= train['gggg'].astype(int)\n",
    "train['pp']= train['pp'].astype(int)\n",
    "\n",
    "test[['gggg','pp']] = test['PassengerId'].str.split('_', expand=True)\n",
    "test['gggg']= test['gggg'].astype(int)\n",
    "test['pp']= test['pp'].astype(int)"
   ]
  },
  {
   "cell_type": "code",
   "execution_count": 17,
   "id": "7afe7fe5",
   "metadata": {
    "execution": {
     "iopub.execute_input": "2023-03-10T05:28:18.194521Z",
     "iopub.status.busy": "2023-03-10T05:28:18.193257Z",
     "iopub.status.idle": "2023-03-10T05:28:18.327192Z",
     "shell.execute_reply": "2023-03-10T05:28:18.325863Z"
    },
    "papermill": {
     "duration": 0.151268,
     "end_time": "2023-03-10T05:28:18.330150",
     "exception": false,
     "start_time": "2023-03-10T05:28:18.178882",
     "status": "completed"
    },
    "tags": []
   },
   "outputs": [],
   "source": [
    "#Split Name into First and Last\n",
    "train[['First_Name','Last_Name']]=train['Name'].str.split(' ', expand=True)\n",
    "test[['First_Name','Last_Name']]=test['Name'].str.split(' ', expand=True)"
   ]
  },
  {
   "cell_type": "code",
   "execution_count": 18,
   "id": "1b96def0",
   "metadata": {
    "execution": {
     "iopub.execute_input": "2023-03-10T05:28:18.358378Z",
     "iopub.status.busy": "2023-03-10T05:28:18.357916Z",
     "iopub.status.idle": "2023-03-10T05:28:18.382125Z",
     "shell.execute_reply": "2023-03-10T05:28:18.380889Z"
    },
    "papermill": {
     "duration": 0.041551,
     "end_time": "2023-03-10T05:28:18.385005",
     "exception": false,
     "start_time": "2023-03-10T05:28:18.343454",
     "status": "completed"
    },
    "tags": []
   },
   "outputs": [],
   "source": [
    "#We can't use one-hot encoding for First Name and Last Name as the test data \n",
    "#may have new First Name and Last Name that the model has not seen before\n",
    "train['First_Name_Initial']=train['First_Name'].str[0]\n",
    "train['First_Name_Initial']= train['First_Name_Initial'].map(\n",
    "        {'A':1, 'B': 2, 'C':3,'D':4, 'E':5, 'F':6, 'G':7,\n",
    "         'H':8, 'I':9, 'J':10,'K':11, 'L':12, 'M':13, 'N':14,\n",
    "        'O':15, 'P':16, 'Q':17,'R':18, 'S':19, 'T':20, 'U':21,\n",
    "        'V':22, 'W':23, 'X':24,'Y':25, 'Z':26}\n",
    "    )\n",
    "test['First_Name_Initial']=test['First_Name'].str[0]\n",
    "test['First_Name_Initial']= test['First_Name_Initial'].map(\n",
    "        {'A':1, 'B': 2, 'C':3,'D':4, 'E':5, 'F':6, 'G':7,\n",
    "         'H':8, 'I':9, 'J':10,'K':11, 'L':12, 'M':13, 'N':14,\n",
    "        'O':15, 'P':16, 'Q':17,'R':18, 'S':19, 'T':20, 'U':21,\n",
    "        'V':22, 'W':23, 'X':24,'Y':25, 'Z':26}\n",
    "    )"
   ]
  },
  {
   "cell_type": "code",
   "execution_count": 19,
   "id": "bb6ceccd",
   "metadata": {
    "execution": {
     "iopub.execute_input": "2023-03-10T05:28:18.412954Z",
     "iopub.status.busy": "2023-03-10T05:28:18.412510Z",
     "iopub.status.idle": "2023-03-10T05:28:18.421261Z",
     "shell.execute_reply": "2023-03-10T05:28:18.420116Z"
    },
    "papermill": {
     "duration": 0.025562,
     "end_time": "2023-03-10T05:28:18.423772",
     "exception": false,
     "start_time": "2023-03-10T05:28:18.398210",
     "status": "completed"
    },
    "tags": []
   },
   "outputs": [
    {
     "data": {
      "text/plain": [
       "PassengerId            object\n",
       "HomePlanet              int64\n",
       "CryoSleep               int64\n",
       "Cabin                  object\n",
       "Destination             int64\n",
       "Age                   float64\n",
       "VIP                     int64\n",
       "RoomService           float64\n",
       "FoodCourt             float64\n",
       "ShoppingMall          float64\n",
       "Spa                   float64\n",
       "VRDeck                float64\n",
       "Name                   object\n",
       "Transported             int64\n",
       "Cabin_deck              int64\n",
       "Cabin_num               int64\n",
       "Cabin_side              int64\n",
       "gggg                    int64\n",
       "pp                      int64\n",
       "First_Name             object\n",
       "Last_Name              object\n",
       "First_Name_Initial      int64\n",
       "dtype: object"
      ]
     },
     "execution_count": 19,
     "metadata": {},
     "output_type": "execute_result"
    }
   ],
   "source": [
    "train.dtypes"
   ]
  },
  {
   "cell_type": "markdown",
   "id": "cd5931bf",
   "metadata": {
    "papermill": {
     "duration": 0.013141,
     "end_time": "2023-03-10T05:28:18.450438",
     "exception": false,
     "start_time": "2023-03-10T05:28:18.437297",
     "status": "completed"
    },
    "tags": []
   },
   "source": [
    "> <H3>Feature Crosses</H3>\n",
    "Crossing features to locate additional information"
   ]
  },
  {
   "cell_type": "code",
   "execution_count": 20,
   "id": "e9b20562",
   "metadata": {
    "execution": {
     "iopub.execute_input": "2023-03-10T05:28:18.479741Z",
     "iopub.status.busy": "2023-03-10T05:28:18.479289Z",
     "iopub.status.idle": "2023-03-10T05:28:18.486920Z",
     "shell.execute_reply": "2023-03-10T05:28:18.485740Z"
    },
    "papermill": {
     "duration": 0.025215,
     "end_time": "2023-03-10T05:28:18.489293",
     "exception": false,
     "start_time": "2023-03-10T05:28:18.464078",
     "status": "completed"
    },
    "tags": []
   },
   "outputs": [],
   "source": [
    "#Would crosses of the features contain additional information\n",
    "train['Cabin_deck_x_gggg']=train['Cabin_deck']*train['gggg']\n",
    "test['Cabin_deck_x_gggg']=test['Cabin_deck']*test['gggg']"
   ]
  },
  {
   "cell_type": "code",
   "execution_count": 21,
   "id": "2ef16d17",
   "metadata": {
    "execution": {
     "iopub.execute_input": "2023-03-10T05:28:18.518118Z",
     "iopub.status.busy": "2023-03-10T05:28:18.516963Z",
     "iopub.status.idle": "2023-03-10T05:28:18.524866Z",
     "shell.execute_reply": "2023-03-10T05:28:18.523804Z"
    },
    "papermill": {
     "duration": 0.024633,
     "end_time": "2023-03-10T05:28:18.527181",
     "exception": false,
     "start_time": "2023-03-10T05:28:18.502548",
     "status": "completed"
    },
    "tags": []
   },
   "outputs": [],
   "source": [
    "#Would crosses of the features contain additional information\n",
    "train['Destination_x_CryoSleep']=train['Destination']*train['CryoSleep']\n",
    "test['Destination_x_CryoSleep']=test['Destination']*test['CryoSleep']"
   ]
  },
  {
   "cell_type": "code",
   "execution_count": 22,
   "id": "af436da3",
   "metadata": {
    "execution": {
     "iopub.execute_input": "2023-03-10T05:28:18.556094Z",
     "iopub.status.busy": "2023-03-10T05:28:18.555433Z",
     "iopub.status.idle": "2023-03-10T05:28:18.578687Z",
     "shell.execute_reply": "2023-03-10T05:28:18.577479Z"
    },
    "papermill": {
     "duration": 0.041811,
     "end_time": "2023-03-10T05:28:18.582439",
     "exception": false,
     "start_time": "2023-03-10T05:28:18.540628",
     "status": "completed"
    },
    "tags": []
   },
   "outputs": [
    {
     "name": "stdout",
     "output_type": "stream",
     "text": [
      "Transported                1.000000\n",
      "CryoSleep                  0.456062\n",
      "Destination_x_CryoSleep    0.275828\n",
      "Destination                0.108732\n",
      "Cabin_side                 0.103142\n",
      "pp                         0.066390\n",
      "FoodCourt                  0.046016\n",
      "gggg                       0.021491\n",
      "ShoppingMall               0.010163\n",
      "First_Name_Initial        -0.003140\n",
      "Cabin_deck_x_gggg         -0.034508\n",
      "VIP                       -0.034560\n",
      "Cabin_num                 -0.047249\n",
      "Age                       -0.074233\n",
      "HomePlanet                -0.103718\n",
      "Cabin_deck                -0.114933\n",
      "VRDeck                    -0.204798\n",
      "Spa                       -0.217188\n",
      "RoomService               -0.241271\n",
      "Name: Transported, dtype: float64\n"
     ]
    }
   ],
   "source": [
    "# Find the most important numerical features relative to target using pandas corr function\n",
    "corr = train.corr()\n",
    "corr.sort_values([\"Transported\"], ascending = False, inplace = True)\n",
    "print(corr.Transported)"
   ]
  },
  {
   "cell_type": "markdown",
   "id": "8d0d29f9",
   "metadata": {
    "papermill": {
     "duration": 0.012882,
     "end_time": "2023-03-10T05:28:18.609424",
     "exception": false,
     "start_time": "2023-03-10T05:28:18.596542",
     "status": "completed"
    },
    "tags": []
   },
   "source": [
    "Very little correlation with most numeric features."
   ]
  },
  {
   "cell_type": "code",
   "execution_count": 23,
   "id": "ad11cf53",
   "metadata": {
    "execution": {
     "iopub.execute_input": "2023-03-10T05:28:18.638051Z",
     "iopub.status.busy": "2023-03-10T05:28:18.637621Z",
     "iopub.status.idle": "2023-03-10T05:28:18.660235Z",
     "shell.execute_reply": "2023-03-10T05:28:18.659035Z"
    },
    "papermill": {
     "duration": 0.041039,
     "end_time": "2023-03-10T05:28:18.663697",
     "exception": false,
     "start_time": "2023-03-10T05:28:18.622658",
     "status": "completed"
    },
    "tags": []
   },
   "outputs": [
    {
     "name": "stdout",
     "output_type": "stream",
     "text": [
      "Numerical features :  18 Index(['HomePlanet', 'CryoSleep', 'Destination', 'Age', 'VIP', 'RoomService',\n",
      "       'FoodCourt', 'ShoppingMall', 'Spa', 'VRDeck', 'Cabin_deck', 'Cabin_num',\n",
      "       'Cabin_side', 'gggg', 'pp', 'First_Name_Initial', 'Cabin_deck_x_gggg',\n",
      "       'Destination_x_CryoSleep'],\n",
      "      dtype='object')\n",
      "Categorical features :  5 Index(['PassengerId', 'Cabin', 'Name', 'First_Name', 'Last_Name'], dtype='object')\n"
     ]
    }
   ],
   "source": [
    "# Separate numerical features and categorical features. Target is bool.\n",
    "# Train\n",
    "categorical_features = train.select_dtypes(include = [\"object\"]).columns\n",
    "numerical_features = train.select_dtypes(include = [\"int64\", \"float64\"]).columns\n",
    "numerical_features = numerical_features.drop('Transported')\n",
    "print(\"Numerical features : \", str(len(numerical_features)) ,numerical_features)\n",
    "print(\"Categorical features : \", str(len(categorical_features)),categorical_features)\n",
    "train_num = train[numerical_features]\n",
    "train_cat = train[categorical_features]\n",
    "# Test\n",
    "test_num = test[numerical_features]\n",
    "test_cat = test[categorical_features]\n"
   ]
  },
  {
   "cell_type": "markdown",
   "id": "7f75c2bc",
   "metadata": {
    "papermill": {
     "duration": 0.012992,
     "end_time": "2023-03-10T05:28:18.690703",
     "exception": false,
     "start_time": "2023-03-10T05:28:18.677711",
     "status": "completed"
    },
    "tags": []
   },
   "source": [
    "There are too many categories so one-hot encoding will not work, so commented out the one-hot encoding section. Instead splitting the Cabin data into subcomponents.\n",
    "\n",
    " Train unique values:\n",
    "Cabin           6560\n",
    "Name            8473\n",
    "\n",
    " Test unique values: \n",
    "Cabin           3265"
   ]
  },
  {
   "cell_type": "code",
   "execution_count": 24,
   "id": "b4fa5c18",
   "metadata": {
    "execution": {
     "iopub.execute_input": "2023-03-10T05:28:18.719951Z",
     "iopub.status.busy": "2023-03-10T05:28:18.719486Z",
     "iopub.status.idle": "2023-03-10T05:28:18.727033Z",
     "shell.execute_reply": "2023-03-10T05:28:18.725906Z"
    },
    "papermill": {
     "duration": 0.025048,
     "end_time": "2023-03-10T05:28:18.729271",
     "exception": false,
     "start_time": "2023-03-10T05:28:18.704223",
     "status": "completed"
    },
    "tags": []
   },
   "outputs": [
    {
     "data": {
      "text/plain": [
       "'\\nprint(\"NAs for categorical features in train : \" + str(train_cat.isnull().values.sum()))\\ntrain_cat = pd.get_dummies(train_cat)\\nprint(\"Remaining NAs for categorical features in train : \" + str(train_cat.isnull().values.sum()))\\n# Test\\nprint(\"NAs for categorical features in test : \" + str(test_cat.isnull().values.sum()))\\ntest_cat = pd.get_dummies(test_cat)\\nprint(\"Remaining NAs for categorical features in test : \" + str(test_cat.isnull().values.sum()))\\n'"
      ]
     },
     "execution_count": 24,
     "metadata": {},
     "output_type": "execute_result"
    }
   ],
   "source": [
    "# Create dummy features for categorical values via one-hot encoding\n",
    "# Train\n",
    "'''\n",
    "print(\"NAs for categorical features in train : \" + str(train_cat.isnull().values.sum()))\n",
    "train_cat = pd.get_dummies(train_cat)\n",
    "print(\"Remaining NAs for categorical features in train : \" + str(train_cat.isnull().values.sum()))\n",
    "# Test\n",
    "print(\"NAs for categorical features in test : \" + str(test_cat.isnull().values.sum()))\n",
    "test_cat = pd.get_dummies(test_cat)\n",
    "print(\"Remaining NAs for categorical features in test : \" + str(test_cat.isnull().values.sum()))\n",
    "'''"
   ]
  },
  {
   "cell_type": "code",
   "execution_count": 25,
   "id": "66ab155e",
   "metadata": {
    "execution": {
     "iopub.execute_input": "2023-03-10T05:28:18.758814Z",
     "iopub.status.busy": "2023-03-10T05:28:18.758403Z",
     "iopub.status.idle": "2023-03-10T05:28:18.787541Z",
     "shell.execute_reply": "2023-03-10T05:28:18.786369Z"
    },
    "papermill": {
     "duration": 0.046732,
     "end_time": "2023-03-10T05:28:18.789886",
     "exception": false,
     "start_time": "2023-03-10T05:28:18.743154",
     "status": "completed"
    },
    "tags": []
   },
   "outputs": [
    {
     "data": {
      "text/html": [
       "<div>\n",
       "<style scoped>\n",
       "    .dataframe tbody tr th:only-of-type {\n",
       "        vertical-align: middle;\n",
       "    }\n",
       "\n",
       "    .dataframe tbody tr th {\n",
       "        vertical-align: top;\n",
       "    }\n",
       "\n",
       "    .dataframe thead th {\n",
       "        text-align: right;\n",
       "    }\n",
       "</style>\n",
       "<table border=\"1\" class=\"dataframe\">\n",
       "  <thead>\n",
       "    <tr style=\"text-align: right;\">\n",
       "      <th></th>\n",
       "      <th>PassengerId</th>\n",
       "      <th>HomePlanet</th>\n",
       "      <th>CryoSleep</th>\n",
       "      <th>Cabin</th>\n",
       "      <th>Destination</th>\n",
       "      <th>Age</th>\n",
       "      <th>VIP</th>\n",
       "      <th>RoomService</th>\n",
       "      <th>FoodCourt</th>\n",
       "      <th>ShoppingMall</th>\n",
       "      <th>...</th>\n",
       "      <th>Cabin_deck</th>\n",
       "      <th>Cabin_num</th>\n",
       "      <th>Cabin_side</th>\n",
       "      <th>gggg</th>\n",
       "      <th>pp</th>\n",
       "      <th>First_Name</th>\n",
       "      <th>Last_Name</th>\n",
       "      <th>First_Name_Initial</th>\n",
       "      <th>Cabin_deck_x_gggg</th>\n",
       "      <th>Destination_x_CryoSleep</th>\n",
       "    </tr>\n",
       "  </thead>\n",
       "  <tbody>\n",
       "    <tr>\n",
       "      <th>0</th>\n",
       "      <td>0001_01</td>\n",
       "      <td>0</td>\n",
       "      <td>0</td>\n",
       "      <td>B/0/P</td>\n",
       "      <td>0</td>\n",
       "      <td>39.0</td>\n",
       "      <td>0</td>\n",
       "      <td>0.0</td>\n",
       "      <td>0.0</td>\n",
       "      <td>0.0</td>\n",
       "      <td>...</td>\n",
       "      <td>2</td>\n",
       "      <td>0</td>\n",
       "      <td>0</td>\n",
       "      <td>1</td>\n",
       "      <td>1</td>\n",
       "      <td>Maham</td>\n",
       "      <td>Ofracculy</td>\n",
       "      <td>13</td>\n",
       "      <td>2</td>\n",
       "      <td>0</td>\n",
       "    </tr>\n",
       "    <tr>\n",
       "      <th>1</th>\n",
       "      <td>0002_01</td>\n",
       "      <td>1</td>\n",
       "      <td>0</td>\n",
       "      <td>F/0/S</td>\n",
       "      <td>0</td>\n",
       "      <td>24.0</td>\n",
       "      <td>0</td>\n",
       "      <td>109.0</td>\n",
       "      <td>9.0</td>\n",
       "      <td>25.0</td>\n",
       "      <td>...</td>\n",
       "      <td>6</td>\n",
       "      <td>0</td>\n",
       "      <td>1</td>\n",
       "      <td>2</td>\n",
       "      <td>1</td>\n",
       "      <td>Juanna</td>\n",
       "      <td>Vines</td>\n",
       "      <td>10</td>\n",
       "      <td>12</td>\n",
       "      <td>0</td>\n",
       "    </tr>\n",
       "    <tr>\n",
       "      <th>2</th>\n",
       "      <td>0003_01</td>\n",
       "      <td>0</td>\n",
       "      <td>0</td>\n",
       "      <td>A/0/S</td>\n",
       "      <td>0</td>\n",
       "      <td>58.0</td>\n",
       "      <td>1</td>\n",
       "      <td>43.0</td>\n",
       "      <td>3576.0</td>\n",
       "      <td>0.0</td>\n",
       "      <td>...</td>\n",
       "      <td>1</td>\n",
       "      <td>0</td>\n",
       "      <td>1</td>\n",
       "      <td>3</td>\n",
       "      <td>1</td>\n",
       "      <td>Altark</td>\n",
       "      <td>Susent</td>\n",
       "      <td>1</td>\n",
       "      <td>3</td>\n",
       "      <td>0</td>\n",
       "    </tr>\n",
       "    <tr>\n",
       "      <th>3</th>\n",
       "      <td>0003_02</td>\n",
       "      <td>0</td>\n",
       "      <td>0</td>\n",
       "      <td>A/0/S</td>\n",
       "      <td>0</td>\n",
       "      <td>33.0</td>\n",
       "      <td>0</td>\n",
       "      <td>0.0</td>\n",
       "      <td>1283.0</td>\n",
       "      <td>371.0</td>\n",
       "      <td>...</td>\n",
       "      <td>1</td>\n",
       "      <td>0</td>\n",
       "      <td>1</td>\n",
       "      <td>3</td>\n",
       "      <td>2</td>\n",
       "      <td>Solam</td>\n",
       "      <td>Susent</td>\n",
       "      <td>19</td>\n",
       "      <td>3</td>\n",
       "      <td>0</td>\n",
       "    </tr>\n",
       "    <tr>\n",
       "      <th>4</th>\n",
       "      <td>0004_01</td>\n",
       "      <td>1</td>\n",
       "      <td>0</td>\n",
       "      <td>F/1/S</td>\n",
       "      <td>0</td>\n",
       "      <td>16.0</td>\n",
       "      <td>0</td>\n",
       "      <td>303.0</td>\n",
       "      <td>70.0</td>\n",
       "      <td>151.0</td>\n",
       "      <td>...</td>\n",
       "      <td>6</td>\n",
       "      <td>1</td>\n",
       "      <td>1</td>\n",
       "      <td>4</td>\n",
       "      <td>1</td>\n",
       "      <td>Willy</td>\n",
       "      <td>Santantines</td>\n",
       "      <td>23</td>\n",
       "      <td>24</td>\n",
       "      <td>0</td>\n",
       "    </tr>\n",
       "    <tr>\n",
       "      <th>5</th>\n",
       "      <td>0005_01</td>\n",
       "      <td>1</td>\n",
       "      <td>0</td>\n",
       "      <td>F/0/P</td>\n",
       "      <td>1</td>\n",
       "      <td>44.0</td>\n",
       "      <td>0</td>\n",
       "      <td>0.0</td>\n",
       "      <td>483.0</td>\n",
       "      <td>0.0</td>\n",
       "      <td>...</td>\n",
       "      <td>6</td>\n",
       "      <td>0</td>\n",
       "      <td>0</td>\n",
       "      <td>5</td>\n",
       "      <td>1</td>\n",
       "      <td>Sandie</td>\n",
       "      <td>Hinetthews</td>\n",
       "      <td>19</td>\n",
       "      <td>30</td>\n",
       "      <td>0</td>\n",
       "    </tr>\n",
       "    <tr>\n",
       "      <th>6</th>\n",
       "      <td>0006_01</td>\n",
       "      <td>1</td>\n",
       "      <td>0</td>\n",
       "      <td>F/2/S</td>\n",
       "      <td>0</td>\n",
       "      <td>26.0</td>\n",
       "      <td>0</td>\n",
       "      <td>42.0</td>\n",
       "      <td>1539.0</td>\n",
       "      <td>3.0</td>\n",
       "      <td>...</td>\n",
       "      <td>6</td>\n",
       "      <td>2</td>\n",
       "      <td>1</td>\n",
       "      <td>6</td>\n",
       "      <td>1</td>\n",
       "      <td>Billex</td>\n",
       "      <td>Jacostaffey</td>\n",
       "      <td>2</td>\n",
       "      <td>36</td>\n",
       "      <td>0</td>\n",
       "    </tr>\n",
       "    <tr>\n",
       "      <th>7</th>\n",
       "      <td>0006_02</td>\n",
       "      <td>1</td>\n",
       "      <td>1</td>\n",
       "      <td>G/0/S</td>\n",
       "      <td>0</td>\n",
       "      <td>28.0</td>\n",
       "      <td>0</td>\n",
       "      <td>0.0</td>\n",
       "      <td>0.0</td>\n",
       "      <td>0.0</td>\n",
       "      <td>...</td>\n",
       "      <td>7</td>\n",
       "      <td>0</td>\n",
       "      <td>1</td>\n",
       "      <td>6</td>\n",
       "      <td>2</td>\n",
       "      <td>Candra</td>\n",
       "      <td>Jacostaffey</td>\n",
       "      <td>3</td>\n",
       "      <td>42</td>\n",
       "      <td>0</td>\n",
       "    </tr>\n",
       "    <tr>\n",
       "      <th>8</th>\n",
       "      <td>0007_01</td>\n",
       "      <td>1</td>\n",
       "      <td>0</td>\n",
       "      <td>F/3/S</td>\n",
       "      <td>0</td>\n",
       "      <td>35.0</td>\n",
       "      <td>0</td>\n",
       "      <td>0.0</td>\n",
       "      <td>785.0</td>\n",
       "      <td>17.0</td>\n",
       "      <td>...</td>\n",
       "      <td>6</td>\n",
       "      <td>3</td>\n",
       "      <td>1</td>\n",
       "      <td>7</td>\n",
       "      <td>1</td>\n",
       "      <td>Andona</td>\n",
       "      <td>Beston</td>\n",
       "      <td>1</td>\n",
       "      <td>42</td>\n",
       "      <td>0</td>\n",
       "    </tr>\n",
       "    <tr>\n",
       "      <th>9</th>\n",
       "      <td>0008_01</td>\n",
       "      <td>0</td>\n",
       "      <td>1</td>\n",
       "      <td>B/1/P</td>\n",
       "      <td>2</td>\n",
       "      <td>14.0</td>\n",
       "      <td>0</td>\n",
       "      <td>0.0</td>\n",
       "      <td>0.0</td>\n",
       "      <td>0.0</td>\n",
       "      <td>...</td>\n",
       "      <td>2</td>\n",
       "      <td>1</td>\n",
       "      <td>0</td>\n",
       "      <td>8</td>\n",
       "      <td>1</td>\n",
       "      <td>Erraiam</td>\n",
       "      <td>Flatic</td>\n",
       "      <td>5</td>\n",
       "      <td>16</td>\n",
       "      <td>2</td>\n",
       "    </tr>\n",
       "    <tr>\n",
       "      <th>10</th>\n",
       "      <td>0008_02</td>\n",
       "      <td>0</td>\n",
       "      <td>1</td>\n",
       "      <td>B/1/P</td>\n",
       "      <td>0</td>\n",
       "      <td>34.0</td>\n",
       "      <td>0</td>\n",
       "      <td>0.0</td>\n",
       "      <td>0.0</td>\n",
       "      <td>0.0</td>\n",
       "      <td>...</td>\n",
       "      <td>2</td>\n",
       "      <td>1</td>\n",
       "      <td>0</td>\n",
       "      <td>8</td>\n",
       "      <td>2</td>\n",
       "      <td>Altardr</td>\n",
       "      <td>Flatic</td>\n",
       "      <td>1</td>\n",
       "      <td>16</td>\n",
       "      <td>0</td>\n",
       "    </tr>\n",
       "  </tbody>\n",
       "</table>\n",
       "<p>11 rows × 24 columns</p>\n",
       "</div>"
      ],
      "text/plain": [
       "   PassengerId  HomePlanet  CryoSleep  Cabin  Destination   Age  VIP  \\\n",
       "0      0001_01           0          0  B/0/P            0  39.0    0   \n",
       "1      0002_01           1          0  F/0/S            0  24.0    0   \n",
       "2      0003_01           0          0  A/0/S            0  58.0    1   \n",
       "3      0003_02           0          0  A/0/S            0  33.0    0   \n",
       "4      0004_01           1          0  F/1/S            0  16.0    0   \n",
       "5      0005_01           1          0  F/0/P            1  44.0    0   \n",
       "6      0006_01           1          0  F/2/S            0  26.0    0   \n",
       "7      0006_02           1          1  G/0/S            0  28.0    0   \n",
       "8      0007_01           1          0  F/3/S            0  35.0    0   \n",
       "9      0008_01           0          1  B/1/P            2  14.0    0   \n",
       "10     0008_02           0          1  B/1/P            0  34.0    0   \n",
       "\n",
       "    RoomService  FoodCourt  ShoppingMall  ...  Cabin_deck  Cabin_num  \\\n",
       "0           0.0        0.0           0.0  ...           2          0   \n",
       "1         109.0        9.0          25.0  ...           6          0   \n",
       "2          43.0     3576.0           0.0  ...           1          0   \n",
       "3           0.0     1283.0         371.0  ...           1          0   \n",
       "4         303.0       70.0         151.0  ...           6          1   \n",
       "5           0.0      483.0           0.0  ...           6          0   \n",
       "6          42.0     1539.0           3.0  ...           6          2   \n",
       "7           0.0        0.0           0.0  ...           7          0   \n",
       "8           0.0      785.0          17.0  ...           6          3   \n",
       "9           0.0        0.0           0.0  ...           2          1   \n",
       "10          0.0        0.0           0.0  ...           2          1   \n",
       "\n",
       "   Cabin_side  gggg  pp  First_Name    Last_Name  First_Name_Initial  \\\n",
       "0           0     1   1       Maham    Ofracculy                  13   \n",
       "1           1     2   1      Juanna        Vines                  10   \n",
       "2           1     3   1      Altark       Susent                   1   \n",
       "3           1     3   2       Solam       Susent                  19   \n",
       "4           1     4   1       Willy  Santantines                  23   \n",
       "5           0     5   1      Sandie   Hinetthews                  19   \n",
       "6           1     6   1      Billex  Jacostaffey                   2   \n",
       "7           1     6   2      Candra  Jacostaffey                   3   \n",
       "8           1     7   1      Andona       Beston                   1   \n",
       "9           0     8   1     Erraiam       Flatic                   5   \n",
       "10          0     8   2     Altardr       Flatic                   1   \n",
       "\n",
       "    Cabin_deck_x_gggg Destination_x_CryoSleep  \n",
       "0                   2                       0  \n",
       "1                  12                       0  \n",
       "2                   3                       0  \n",
       "3                   3                       0  \n",
       "4                  24                       0  \n",
       "5                  30                       0  \n",
       "6                  36                       0  \n",
       "7                  42                       0  \n",
       "8                  42                       0  \n",
       "9                  16                       2  \n",
       "10                 16                       0  \n",
       "\n",
       "[11 rows x 24 columns]"
      ]
     },
     "execution_count": 25,
     "metadata": {},
     "output_type": "execute_result"
    }
   ],
   "source": [
    "train.head(11)"
   ]
  },
  {
   "cell_type": "code",
   "execution_count": 26,
   "id": "3ec02d54",
   "metadata": {
    "execution": {
     "iopub.execute_input": "2023-03-10T05:28:18.819924Z",
     "iopub.status.busy": "2023-03-10T05:28:18.819505Z",
     "iopub.status.idle": "2023-03-10T05:28:18.849421Z",
     "shell.execute_reply": "2023-03-10T05:28:18.848368Z"
    },
    "papermill": {
     "duration": 0.048106,
     "end_time": "2023-03-10T05:28:18.851988",
     "exception": false,
     "start_time": "2023-03-10T05:28:18.803882",
     "status": "completed"
    },
    "tags": []
   },
   "outputs": [
    {
     "data": {
      "text/html": [
       "<div>\n",
       "<style scoped>\n",
       "    .dataframe tbody tr th:only-of-type {\n",
       "        vertical-align: middle;\n",
       "    }\n",
       "\n",
       "    .dataframe tbody tr th {\n",
       "        vertical-align: top;\n",
       "    }\n",
       "\n",
       "    .dataframe thead th {\n",
       "        text-align: right;\n",
       "    }\n",
       "</style>\n",
       "<table border=\"1\" class=\"dataframe\">\n",
       "  <thead>\n",
       "    <tr style=\"text-align: right;\">\n",
       "      <th></th>\n",
       "      <th>PassengerId</th>\n",
       "      <th>HomePlanet</th>\n",
       "      <th>CryoSleep</th>\n",
       "      <th>Cabin</th>\n",
       "      <th>Destination</th>\n",
       "      <th>Age</th>\n",
       "      <th>VIP</th>\n",
       "      <th>RoomService</th>\n",
       "      <th>FoodCourt</th>\n",
       "      <th>ShoppingMall</th>\n",
       "      <th>...</th>\n",
       "      <th>Cabin_deck</th>\n",
       "      <th>Cabin_num</th>\n",
       "      <th>Cabin_side</th>\n",
       "      <th>gggg</th>\n",
       "      <th>pp</th>\n",
       "      <th>First_Name</th>\n",
       "      <th>Last_Name</th>\n",
       "      <th>First_Name_Initial</th>\n",
       "      <th>Cabin_deck_x_gggg</th>\n",
       "      <th>Destination_x_CryoSleep</th>\n",
       "    </tr>\n",
       "  </thead>\n",
       "  <tbody>\n",
       "    <tr>\n",
       "      <th>8683</th>\n",
       "      <td>9272_02</td>\n",
       "      <td>1</td>\n",
       "      <td>0</td>\n",
       "      <td>F/1894/P</td>\n",
       "      <td>0</td>\n",
       "      <td>21.0</td>\n",
       "      <td>0</td>\n",
       "      <td>86.0</td>\n",
       "      <td>3.0</td>\n",
       "      <td>149.0</td>\n",
       "      <td>...</td>\n",
       "      <td>6</td>\n",
       "      <td>1894</td>\n",
       "      <td>0</td>\n",
       "      <td>9272</td>\n",
       "      <td>2</td>\n",
       "      <td>Gordo</td>\n",
       "      <td>Simson</td>\n",
       "      <td>7</td>\n",
       "      <td>55632</td>\n",
       "      <td>0</td>\n",
       "    </tr>\n",
       "    <tr>\n",
       "      <th>8684</th>\n",
       "      <td>9274_01</td>\n",
       "      <td>1</td>\n",
       "      <td>1</td>\n",
       "      <td>G/1508/P</td>\n",
       "      <td>0</td>\n",
       "      <td>23.0</td>\n",
       "      <td>0</td>\n",
       "      <td>0.0</td>\n",
       "      <td>0.0</td>\n",
       "      <td>0.0</td>\n",
       "      <td>...</td>\n",
       "      <td>7</td>\n",
       "      <td>1508</td>\n",
       "      <td>0</td>\n",
       "      <td>9274</td>\n",
       "      <td>1</td>\n",
       "      <td>Chelsa</td>\n",
       "      <td>Bullisey</td>\n",
       "      <td>3</td>\n",
       "      <td>64918</td>\n",
       "      <td>0</td>\n",
       "    </tr>\n",
       "    <tr>\n",
       "      <th>8685</th>\n",
       "      <td>9275_01</td>\n",
       "      <td>0</td>\n",
       "      <td>0</td>\n",
       "      <td>A/97/P</td>\n",
       "      <td>0</td>\n",
       "      <td>0.0</td>\n",
       "      <td>0</td>\n",
       "      <td>0.0</td>\n",
       "      <td>0.0</td>\n",
       "      <td>0.0</td>\n",
       "      <td>...</td>\n",
       "      <td>1</td>\n",
       "      <td>97</td>\n",
       "      <td>0</td>\n",
       "      <td>9275</td>\n",
       "      <td>1</td>\n",
       "      <td>Polaton</td>\n",
       "      <td>Conable</td>\n",
       "      <td>16</td>\n",
       "      <td>9275</td>\n",
       "      <td>0</td>\n",
       "    </tr>\n",
       "    <tr>\n",
       "      <th>8686</th>\n",
       "      <td>9275_02</td>\n",
       "      <td>0</td>\n",
       "      <td>0</td>\n",
       "      <td>A/97/P</td>\n",
       "      <td>0</td>\n",
       "      <td>32.0</td>\n",
       "      <td>0</td>\n",
       "      <td>1.0</td>\n",
       "      <td>1146.0</td>\n",
       "      <td>0.0</td>\n",
       "      <td>...</td>\n",
       "      <td>1</td>\n",
       "      <td>97</td>\n",
       "      <td>0</td>\n",
       "      <td>9275</td>\n",
       "      <td>2</td>\n",
       "      <td>Diram</td>\n",
       "      <td>Conable</td>\n",
       "      <td>4</td>\n",
       "      <td>9275</td>\n",
       "      <td>0</td>\n",
       "    </tr>\n",
       "    <tr>\n",
       "      <th>8687</th>\n",
       "      <td>9275_03</td>\n",
       "      <td>0</td>\n",
       "      <td>0</td>\n",
       "      <td>A/97/P</td>\n",
       "      <td>0</td>\n",
       "      <td>30.0</td>\n",
       "      <td>0</td>\n",
       "      <td>0.0</td>\n",
       "      <td>3208.0</td>\n",
       "      <td>0.0</td>\n",
       "      <td>...</td>\n",
       "      <td>1</td>\n",
       "      <td>97</td>\n",
       "      <td>0</td>\n",
       "      <td>9275</td>\n",
       "      <td>3</td>\n",
       "      <td>Atlasym</td>\n",
       "      <td>Conable</td>\n",
       "      <td>1</td>\n",
       "      <td>9275</td>\n",
       "      <td>0</td>\n",
       "    </tr>\n",
       "    <tr>\n",
       "      <th>8688</th>\n",
       "      <td>9276_01</td>\n",
       "      <td>0</td>\n",
       "      <td>0</td>\n",
       "      <td>A/98/P</td>\n",
       "      <td>2</td>\n",
       "      <td>41.0</td>\n",
       "      <td>1</td>\n",
       "      <td>0.0</td>\n",
       "      <td>6819.0</td>\n",
       "      <td>0.0</td>\n",
       "      <td>...</td>\n",
       "      <td>1</td>\n",
       "      <td>98</td>\n",
       "      <td>0</td>\n",
       "      <td>9276</td>\n",
       "      <td>1</td>\n",
       "      <td>Gravior</td>\n",
       "      <td>Noxnuther</td>\n",
       "      <td>7</td>\n",
       "      <td>9276</td>\n",
       "      <td>0</td>\n",
       "    </tr>\n",
       "    <tr>\n",
       "      <th>8689</th>\n",
       "      <td>9278_01</td>\n",
       "      <td>1</td>\n",
       "      <td>1</td>\n",
       "      <td>G/1499/S</td>\n",
       "      <td>1</td>\n",
       "      <td>18.0</td>\n",
       "      <td>0</td>\n",
       "      <td>0.0</td>\n",
       "      <td>0.0</td>\n",
       "      <td>0.0</td>\n",
       "      <td>...</td>\n",
       "      <td>7</td>\n",
       "      <td>1499</td>\n",
       "      <td>1</td>\n",
       "      <td>9278</td>\n",
       "      <td>1</td>\n",
       "      <td>Kurta</td>\n",
       "      <td>Mondalley</td>\n",
       "      <td>11</td>\n",
       "      <td>64946</td>\n",
       "      <td>1</td>\n",
       "    </tr>\n",
       "    <tr>\n",
       "      <th>8690</th>\n",
       "      <td>9279_01</td>\n",
       "      <td>1</td>\n",
       "      <td>0</td>\n",
       "      <td>G/1500/S</td>\n",
       "      <td>0</td>\n",
       "      <td>26.0</td>\n",
       "      <td>0</td>\n",
       "      <td>0.0</td>\n",
       "      <td>0.0</td>\n",
       "      <td>1872.0</td>\n",
       "      <td>...</td>\n",
       "      <td>7</td>\n",
       "      <td>1500</td>\n",
       "      <td>1</td>\n",
       "      <td>9279</td>\n",
       "      <td>1</td>\n",
       "      <td>Fayey</td>\n",
       "      <td>Connon</td>\n",
       "      <td>6</td>\n",
       "      <td>64953</td>\n",
       "      <td>0</td>\n",
       "    </tr>\n",
       "    <tr>\n",
       "      <th>8691</th>\n",
       "      <td>9280_01</td>\n",
       "      <td>0</td>\n",
       "      <td>0</td>\n",
       "      <td>E/608/S</td>\n",
       "      <td>2</td>\n",
       "      <td>32.0</td>\n",
       "      <td>0</td>\n",
       "      <td>0.0</td>\n",
       "      <td>1049.0</td>\n",
       "      <td>0.0</td>\n",
       "      <td>...</td>\n",
       "      <td>5</td>\n",
       "      <td>608</td>\n",
       "      <td>1</td>\n",
       "      <td>9280</td>\n",
       "      <td>1</td>\n",
       "      <td>Celeon</td>\n",
       "      <td>Hontichre</td>\n",
       "      <td>3</td>\n",
       "      <td>46400</td>\n",
       "      <td>0</td>\n",
       "    </tr>\n",
       "    <tr>\n",
       "      <th>8692</th>\n",
       "      <td>9280_02</td>\n",
       "      <td>0</td>\n",
       "      <td>0</td>\n",
       "      <td>E/608/S</td>\n",
       "      <td>0</td>\n",
       "      <td>44.0</td>\n",
       "      <td>0</td>\n",
       "      <td>126.0</td>\n",
       "      <td>4688.0</td>\n",
       "      <td>0.0</td>\n",
       "      <td>...</td>\n",
       "      <td>5</td>\n",
       "      <td>608</td>\n",
       "      <td>1</td>\n",
       "      <td>9280</td>\n",
       "      <td>2</td>\n",
       "      <td>Propsh</td>\n",
       "      <td>Hontichre</td>\n",
       "      <td>16</td>\n",
       "      <td>46400</td>\n",
       "      <td>0</td>\n",
       "    </tr>\n",
       "  </tbody>\n",
       "</table>\n",
       "<p>10 rows × 24 columns</p>\n",
       "</div>"
      ],
      "text/plain": [
       "     PassengerId  HomePlanet  CryoSleep     Cabin  Destination   Age  VIP  \\\n",
       "8683     9272_02           1          0  F/1894/P            0  21.0    0   \n",
       "8684     9274_01           1          1  G/1508/P            0  23.0    0   \n",
       "8685     9275_01           0          0    A/97/P            0   0.0    0   \n",
       "8686     9275_02           0          0    A/97/P            0  32.0    0   \n",
       "8687     9275_03           0          0    A/97/P            0  30.0    0   \n",
       "8688     9276_01           0          0    A/98/P            2  41.0    1   \n",
       "8689     9278_01           1          1  G/1499/S            1  18.0    0   \n",
       "8690     9279_01           1          0  G/1500/S            0  26.0    0   \n",
       "8691     9280_01           0          0   E/608/S            2  32.0    0   \n",
       "8692     9280_02           0          0   E/608/S            0  44.0    0   \n",
       "\n",
       "      RoomService  FoodCourt  ShoppingMall  ...  Cabin_deck  Cabin_num  \\\n",
       "8683         86.0        3.0         149.0  ...           6       1894   \n",
       "8684          0.0        0.0           0.0  ...           7       1508   \n",
       "8685          0.0        0.0           0.0  ...           1         97   \n",
       "8686          1.0     1146.0           0.0  ...           1         97   \n",
       "8687          0.0     3208.0           0.0  ...           1         97   \n",
       "8688          0.0     6819.0           0.0  ...           1         98   \n",
       "8689          0.0        0.0           0.0  ...           7       1499   \n",
       "8690          0.0        0.0        1872.0  ...           7       1500   \n",
       "8691          0.0     1049.0           0.0  ...           5        608   \n",
       "8692        126.0     4688.0           0.0  ...           5        608   \n",
       "\n",
       "     Cabin_side  gggg  pp  First_Name  Last_Name  First_Name_Initial  \\\n",
       "8683          0  9272   2       Gordo     Simson                   7   \n",
       "8684          0  9274   1      Chelsa   Bullisey                   3   \n",
       "8685          0  9275   1     Polaton    Conable                  16   \n",
       "8686          0  9275   2       Diram    Conable                   4   \n",
       "8687          0  9275   3     Atlasym    Conable                   1   \n",
       "8688          0  9276   1     Gravior  Noxnuther                   7   \n",
       "8689          1  9278   1       Kurta  Mondalley                  11   \n",
       "8690          1  9279   1       Fayey     Connon                   6   \n",
       "8691          1  9280   1      Celeon  Hontichre                   3   \n",
       "8692          1  9280   2      Propsh  Hontichre                  16   \n",
       "\n",
       "      Cabin_deck_x_gggg Destination_x_CryoSleep  \n",
       "8683              55632                       0  \n",
       "8684              64918                       0  \n",
       "8685               9275                       0  \n",
       "8686               9275                       0  \n",
       "8687               9275                       0  \n",
       "8688               9276                       0  \n",
       "8689              64946                       1  \n",
       "8690              64953                       0  \n",
       "8691              46400                       0  \n",
       "8692              46400                       0  \n",
       "\n",
       "[10 rows x 24 columns]"
      ]
     },
     "execution_count": 26,
     "metadata": {},
     "output_type": "execute_result"
    }
   ],
   "source": [
    "train.tail(10)"
   ]
  },
  {
   "cell_type": "markdown",
   "id": "4ad89af1",
   "metadata": {
    "papermill": {
     "duration": 0.013834,
     "end_time": "2023-03-10T05:28:18.880291",
     "exception": false,
     "start_time": "2023-03-10T05:28:18.866457",
     "status": "completed"
    },
    "tags": []
   },
   "source": [
    "# Analyze - Create Model"
   ]
  },
  {
   "cell_type": "code",
   "execution_count": 27,
   "id": "a55fe470",
   "metadata": {
    "execution": {
     "iopub.execute_input": "2023-03-10T05:28:18.910501Z",
     "iopub.status.busy": "2023-03-10T05:28:18.910028Z",
     "iopub.status.idle": "2023-03-10T05:28:20.564243Z",
     "shell.execute_reply": "2023-03-10T05:28:20.562829Z"
    },
    "papermill": {
     "duration": 1.67264,
     "end_time": "2023-03-10T05:28:20.567068",
     "exception": false,
     "start_time": "2023-03-10T05:28:18.894428",
     "status": "completed"
    },
    "tags": []
   },
   "outputs": [],
   "source": [
    "from sklearn.model_selection import cross_val_score, train_test_split\n",
    "from sklearn.ensemble import RandomForestClassifier\n",
    "from sklearn.metrics import accuracy_score\n",
    "from IPython.display import display\n",
    "import matplotlib.pyplot as plt\n",
    "import seaborn as sns\n",
    "\n",
    "# Definitions\n",
    "pd.set_option('display.float_format', lambda x: '%.3f' % x)\n",
    "%matplotlib inline\n",
    "#njobs = 4"
   ]
  },
  {
   "cell_type": "code",
   "execution_count": 28,
   "id": "da62aac3",
   "metadata": {
    "execution": {
     "iopub.execute_input": "2023-03-10T05:28:20.598676Z",
     "iopub.status.busy": "2023-03-10T05:28:20.598211Z",
     "iopub.status.idle": "2023-03-10T05:28:20.604735Z",
     "shell.execute_reply": "2023-03-10T05:28:20.603497Z"
    },
    "papermill": {
     "duration": 0.025243,
     "end_time": "2023-03-10T05:28:20.607506",
     "exception": false,
     "start_time": "2023-03-10T05:28:20.582263",
     "status": "completed"
    },
    "tags": []
   },
   "outputs": [
    {
     "name": "stdout",
     "output_type": "stream",
     "text": [
      "New number of features : 18\n"
     ]
    }
   ],
   "source": [
    "# Define features \n",
    "# Join categorical and numerical features\n",
    "#X = pd.concat([train_num, train_cat], axis = 1)\n",
    "X=train_num\n",
    "print(\"New number of features : \" + str(X.shape[1]))"
   ]
  },
  {
   "cell_type": "code",
   "execution_count": 29,
   "id": "710e2390",
   "metadata": {
    "execution": {
     "iopub.execute_input": "2023-03-10T05:28:20.638380Z",
     "iopub.status.busy": "2023-03-10T05:28:20.637952Z",
     "iopub.status.idle": "2023-03-10T05:28:20.645901Z",
     "shell.execute_reply": "2023-03-10T05:28:20.644407Z"
    },
    "papermill": {
     "duration": 0.026385,
     "end_time": "2023-03-10T05:28:20.648497",
     "exception": false,
     "start_time": "2023-03-10T05:28:20.622112",
     "status": "completed"
    },
    "tags": []
   },
   "outputs": [
    {
     "name": "stdout",
     "output_type": "stream",
     "text": [
      "0       0\n",
      "1       1\n",
      "2       0\n",
      "3       0\n",
      "4       1\n",
      "       ..\n",
      "8688    0\n",
      "8689    0\n",
      "8690    1\n",
      "8691    0\n",
      "8692    1\n",
      "Name: Transported, Length: 8693, dtype: int64\n"
     ]
    }
   ],
   "source": [
    "#Define label\n",
    "y = train.Transported\n",
    "print(y)"
   ]
  },
  {
   "cell_type": "code",
   "execution_count": 30,
   "id": "8caf1ad6",
   "metadata": {
    "execution": {
     "iopub.execute_input": "2023-03-10T05:28:20.679607Z",
     "iopub.status.busy": "2023-03-10T05:28:20.679051Z",
     "iopub.status.idle": "2023-03-10T05:28:20.692449Z",
     "shell.execute_reply": "2023-03-10T05:28:20.690789Z"
    },
    "papermill": {
     "duration": 0.032081,
     "end_time": "2023-03-10T05:28:20.695149",
     "exception": false,
     "start_time": "2023-03-10T05:28:20.663068",
     "status": "completed"
    },
    "tags": []
   },
   "outputs": [
    {
     "name": "stdout",
     "output_type": "stream",
     "text": [
      "X_train : (6085, 18)\n",
      "X_validation : (2608, 18)\n",
      "y_train : (6085,)\n",
      "y_validation : (2608,)\n"
     ]
    }
   ],
   "source": [
    "# Partition the dataset into train + validation sets\n",
    "X_train, X_validation, y_train, y_validation = train_test_split(X, y, test_size = 0.3, random_state = 0)\n",
    "print(\"X_train : \" + str(X_train.shape))\n",
    "print(\"X_validation : \" + str(X_validation.shape))\n",
    "print(\"y_train : \" + str(y_train.shape))\n",
    "print(\"y_validation : \" + str(y_validation.shape))"
   ]
  },
  {
   "cell_type": "code",
   "execution_count": 31,
   "id": "c0546f16",
   "metadata": {
    "execution": {
     "iopub.execute_input": "2023-03-10T05:28:20.726735Z",
     "iopub.status.busy": "2023-03-10T05:28:20.725709Z",
     "iopub.status.idle": "2023-03-10T05:28:20.733820Z",
     "shell.execute_reply": "2023-03-10T05:28:20.732730Z"
    },
    "papermill": {
     "duration": 0.026438,
     "end_time": "2023-03-10T05:28:20.736261",
     "exception": false,
     "start_time": "2023-03-10T05:28:20.709823",
     "status": "completed"
    },
    "tags": []
   },
   "outputs": [
    {
     "data": {
      "text/plain": [
       "7289    0\n",
       "2709    1\n",
       "6803    0\n",
       "3731    1\n",
       "6333    0\n",
       "Name: Transported, dtype: int64"
      ]
     },
     "execution_count": 31,
     "metadata": {},
     "output_type": "execute_result"
    }
   ],
   "source": [
    "y_train.head()"
   ]
  },
  {
   "attachments": {
    "7d5fa6f5-cc9b-42e9-b2b4-1b8b80ef5fad.png": {
     "image/png": "[encoded data removed]"
    }
   },
   "cell_type": "markdown",
   "id": "385abb2f",
   "metadata": {
    "papermill": {
     "duration": 0.014918,
     "end_time": "2023-03-10T05:28:20.765798",
     "exception": false,
     "start_time": "2023-03-10T05:28:20.750880",
     "status": "completed"
    },
    "tags": []
   },
   "source": [
    "Using the model from the course (https://www.kaggle.com/learn/intro-to-deep-learning)\n",
    "\n",
    "![image.png](attachment:7d5fa6f5-cc9b-42e9-b2b4-1b8b80ef5fad.png)"
   ]
  },
  {
   "cell_type": "code",
   "execution_count": 32,
   "id": "b10847fc",
   "metadata": {
    "execution": {
     "iopub.execute_input": "2023-03-10T05:28:20.797191Z",
     "iopub.status.busy": "2023-03-10T05:28:20.796091Z",
     "iopub.status.idle": "2023-03-10T05:28:20.801396Z",
     "shell.execute_reply": "2023-03-10T05:28:20.800217Z"
    },
    "papermill": {
     "duration": 0.023466,
     "end_time": "2023-03-10T05:28:20.803822",
     "exception": false,
     "start_time": "2023-03-10T05:28:20.780356",
     "status": "completed"
    },
    "tags": []
   },
   "outputs": [],
   "source": [
    "# Input shape\n",
    "input_shape = [X_train.shape[1]]"
   ]
  },
  {
   "cell_type": "code",
   "execution_count": 33,
   "id": "71c83617",
   "metadata": {
    "execution": {
     "iopub.execute_input": "2023-03-10T05:28:20.834567Z",
     "iopub.status.busy": "2023-03-10T05:28:20.834108Z",
     "iopub.status.idle": "2023-03-10T05:28:30.055044Z",
     "shell.execute_reply": "2023-03-10T05:28:30.053760Z"
    },
    "papermill": {
     "duration": 9.239896,
     "end_time": "2023-03-10T05:28:30.058297",
     "exception": false,
     "start_time": "2023-03-10T05:28:20.818401",
     "status": "completed"
    },
    "tags": []
   },
   "outputs": [],
   "source": [
    "# define the model given in the diagram\n",
    "from tensorflow import keras\n",
    "from tensorflow.keras import layers\n",
    "model = keras.Sequential([\n",
    "    layers.BatchNormalization(input_shape=input_shape),    \n",
    "    layers.Dense(units=256, activation='relu'),\n",
    "    layers.BatchNormalization(),\n",
    "    layers.Dropout(0.5),#tried values 0.2,0.3,0.4,0.5. Graphs converged for 0.5\n",
    "    layers.Dense(units=256, activation='relu'),\n",
    "    layers.BatchNormalization(),\n",
    "    layers.Dropout(0.5),\n",
    "    layers.Dense(units=1,activation='sigmoid')\n",
    "])\n"
   ]
  },
  {
   "cell_type": "code",
   "execution_count": 34,
   "id": "c8ba4aa3",
   "metadata": {
    "execution": {
     "iopub.execute_input": "2023-03-10T05:28:30.090456Z",
     "iopub.status.busy": "2023-03-10T05:28:30.089665Z",
     "iopub.status.idle": "2023-03-10T05:29:00.244711Z",
     "shell.execute_reply": "2023-03-10T05:29:00.243381Z"
    },
    "papermill": {
     "duration": 30.174253,
     "end_time": "2023-03-10T05:29:00.247451",
     "exception": false,
     "start_time": "2023-03-10T05:28:30.073198",
     "status": "completed"
    },
    "tags": []
   },
   "outputs": [
    {
     "name": "stdout",
     "output_type": "stream",
     "text": [
      "Epoch 1/100\n",
      "24/24 [==============================] - 3s 24ms/step - loss: 0.6703 - binary_accuracy: 0.7137 - val_loss: 0.6095 - val_binary_accuracy: 0.6181\n",
      "Epoch 2/100\n",
      "24/24 [==============================] - 0s 13ms/step - loss: 0.5715 - binary_accuracy: 0.7426 - val_loss: 0.5528 - val_binary_accuracy: 0.6971\n",
      "Epoch 3/100\n",
      "24/24 [==============================] - 0s 15ms/step - loss: 0.5309 - binary_accuracy: 0.7550 - val_loss: 0.5346 - val_binary_accuracy: 0.7696\n",
      "Epoch 4/100\n",
      "24/24 [==============================] - 0s 14ms/step - loss: 0.5071 - binary_accuracy: 0.7591 - val_loss: 0.5184 - val_binary_accuracy: 0.7772\n",
      "Epoch 5/100\n",
      "24/24 [==============================] - 0s 13ms/step - loss: 0.4912 - binary_accuracy: 0.7675 - val_loss: 0.5104 - val_binary_accuracy: 0.7799\n",
      "Epoch 6/100\n",
      "24/24 [==============================] - 0s 14ms/step - loss: 0.4867 - binary_accuracy: 0.7730 - val_loss: 0.4952 - val_binary_accuracy: 0.7834\n",
      "Epoch 7/100\n",
      "24/24 [==============================] - 0s 13ms/step - loss: 0.4740 - binary_accuracy: 0.7841 - val_loss: 0.4899 - val_binary_accuracy: 0.7822\n",
      "Epoch 8/100\n",
      "24/24 [==============================] - 0s 13ms/step - loss: 0.4659 - binary_accuracy: 0.7824 - val_loss: 0.4781 - val_binary_accuracy: 0.7841\n",
      "Epoch 9/100\n",
      "24/24 [==============================] - 0s 11ms/step - loss: 0.4645 - binary_accuracy: 0.7783 - val_loss: 0.4743 - val_binary_accuracy: 0.7826\n",
      "Epoch 10/100\n",
      "24/24 [==============================] - 0s 13ms/step - loss: 0.4572 - binary_accuracy: 0.7841 - val_loss: 0.4622 - val_binary_accuracy: 0.7872\n",
      "Epoch 11/100\n",
      "24/24 [==============================] - 0s 13ms/step - loss: 0.4561 - binary_accuracy: 0.7842 - val_loss: 0.4551 - val_binary_accuracy: 0.7891\n",
      "Epoch 12/100\n",
      "24/24 [==============================] - 0s 12ms/step - loss: 0.4512 - binary_accuracy: 0.7890 - val_loss: 0.4442 - val_binary_accuracy: 0.7929\n",
      "Epoch 13/100\n",
      "24/24 [==============================] - 0s 13ms/step - loss: 0.4473 - binary_accuracy: 0.7872 - val_loss: 0.4418 - val_binary_accuracy: 0.7929\n",
      "Epoch 14/100\n",
      "24/24 [==============================] - 0s 11ms/step - loss: 0.4401 - binary_accuracy: 0.7918 - val_loss: 0.4364 - val_binary_accuracy: 0.7983\n",
      "Epoch 15/100\n",
      "24/24 [==============================] - 0s 13ms/step - loss: 0.4420 - binary_accuracy: 0.7926 - val_loss: 0.4321 - val_binary_accuracy: 0.8025\n",
      "Epoch 16/100\n",
      "24/24 [==============================] - 0s 13ms/step - loss: 0.4384 - binary_accuracy: 0.7936 - val_loss: 0.4278 - val_binary_accuracy: 0.8041\n",
      "Epoch 17/100\n",
      "24/24 [==============================] - 0s 11ms/step - loss: 0.4374 - binary_accuracy: 0.7964 - val_loss: 0.4262 - val_binary_accuracy: 0.7987\n",
      "Epoch 18/100\n",
      "24/24 [==============================] - 0s 12ms/step - loss: 0.4309 - binary_accuracy: 0.7957 - val_loss: 0.4216 - val_binary_accuracy: 0.8037\n",
      "Epoch 19/100\n",
      "24/24 [==============================] - 0s 11ms/step - loss: 0.4252 - binary_accuracy: 0.8038 - val_loss: 0.4226 - val_binary_accuracy: 0.8071\n",
      "Epoch 20/100\n",
      "24/24 [==============================] - 0s 13ms/step - loss: 0.4262 - binary_accuracy: 0.8010 - val_loss: 0.4195 - val_binary_accuracy: 0.8052\n",
      "Epoch 21/100\n",
      "24/24 [==============================] - 0s 11ms/step - loss: 0.4290 - binary_accuracy: 0.8026 - val_loss: 0.4198 - val_binary_accuracy: 0.8033\n",
      "Epoch 22/100\n",
      "24/24 [==============================] - 0s 11ms/step - loss: 0.4314 - binary_accuracy: 0.7905 - val_loss: 0.4173 - val_binary_accuracy: 0.8048\n",
      "Epoch 23/100\n",
      "24/24 [==============================] - 0s 11ms/step - loss: 0.4274 - binary_accuracy: 0.8061 - val_loss: 0.4160 - val_binary_accuracy: 0.8033\n",
      "Epoch 24/100\n",
      "24/24 [==============================] - 0s 11ms/step - loss: 0.4252 - binary_accuracy: 0.7942 - val_loss: 0.4183 - val_binary_accuracy: 0.8060\n",
      "Epoch 25/100\n",
      "24/24 [==============================] - 0s 12ms/step - loss: 0.4246 - binary_accuracy: 0.7961 - val_loss: 0.4136 - val_binary_accuracy: 0.8041\n",
      "Epoch 26/100\n",
      "24/24 [==============================] - 0s 11ms/step - loss: 0.4188 - binary_accuracy: 0.7979 - val_loss: 0.4139 - val_binary_accuracy: 0.8044\n",
      "Epoch 27/100\n",
      "24/24 [==============================] - 0s 11ms/step - loss: 0.4172 - binary_accuracy: 0.8012 - val_loss: 0.4132 - val_binary_accuracy: 0.8067\n",
      "Epoch 28/100\n",
      "24/24 [==============================] - 0s 11ms/step - loss: 0.4168 - binary_accuracy: 0.8049 - val_loss: 0.4128 - val_binary_accuracy: 0.8067\n",
      "Epoch 29/100\n",
      "24/24 [==============================] - 0s 12ms/step - loss: 0.4142 - binary_accuracy: 0.8026 - val_loss: 0.4130 - val_binary_accuracy: 0.8060\n",
      "Epoch 30/100\n",
      "24/24 [==============================] - 0s 11ms/step - loss: 0.4130 - binary_accuracy: 0.8053 - val_loss: 0.4129 - val_binary_accuracy: 0.8025\n",
      "Epoch 31/100\n",
      "24/24 [==============================] - 0s 12ms/step - loss: 0.4197 - binary_accuracy: 0.7974 - val_loss: 0.4113 - val_binary_accuracy: 0.8060\n",
      "Epoch 32/100\n",
      "24/24 [==============================] - 0s 12ms/step - loss: 0.4130 - binary_accuracy: 0.8056 - val_loss: 0.4133 - val_binary_accuracy: 0.8044\n",
      "Epoch 33/100\n",
      "24/24 [==============================] - 0s 11ms/step - loss: 0.4082 - binary_accuracy: 0.8092 - val_loss: 0.4090 - val_binary_accuracy: 0.8090\n",
      "Epoch 34/100\n",
      "24/24 [==============================] - 0s 13ms/step - loss: 0.4105 - binary_accuracy: 0.8003 - val_loss: 0.4096 - val_binary_accuracy: 0.8071\n",
      "Epoch 35/100\n",
      "24/24 [==============================] - 0s 11ms/step - loss: 0.4106 - binary_accuracy: 0.8013 - val_loss: 0.4078 - val_binary_accuracy: 0.8087\n",
      "Epoch 36/100\n",
      "24/24 [==============================] - 0s 13ms/step - loss: 0.4153 - binary_accuracy: 0.8018 - val_loss: 0.4070 - val_binary_accuracy: 0.8094\n",
      "Epoch 37/100\n",
      "24/24 [==============================] - 0s 11ms/step - loss: 0.4119 - binary_accuracy: 0.8074 - val_loss: 0.4069 - val_binary_accuracy: 0.8041\n",
      "Epoch 38/100\n",
      "24/24 [==============================] - 0s 11ms/step - loss: 0.4159 - binary_accuracy: 0.8016 - val_loss: 0.4041 - val_binary_accuracy: 0.8129\n",
      "Epoch 39/100\n",
      "24/24 [==============================] - 0s 11ms/step - loss: 0.4119 - binary_accuracy: 0.8030 - val_loss: 0.4041 - val_binary_accuracy: 0.8125\n",
      "Epoch 40/100\n",
      "24/24 [==============================] - 0s 11ms/step - loss: 0.4061 - binary_accuracy: 0.8036 - val_loss: 0.4059 - val_binary_accuracy: 0.8090\n",
      "Epoch 41/100\n",
      "24/24 [==============================] - 0s 12ms/step - loss: 0.4084 - binary_accuracy: 0.8104 - val_loss: 0.4044 - val_binary_accuracy: 0.8106\n",
      "Epoch 42/100\n",
      "24/24 [==============================] - 0s 11ms/step - loss: 0.4058 - binary_accuracy: 0.8069 - val_loss: 0.4056 - val_binary_accuracy: 0.8071\n",
      "Epoch 43/100\n",
      "24/24 [==============================] - 0s 11ms/step - loss: 0.4073 - binary_accuracy: 0.8051 - val_loss: 0.4068 - val_binary_accuracy: 0.8075\n",
      "Epoch 44/100\n",
      "24/24 [==============================] - 0s 11ms/step - loss: 0.4061 - binary_accuracy: 0.8031 - val_loss: 0.4045 - val_binary_accuracy: 0.8110\n",
      "Epoch 45/100\n",
      "24/24 [==============================] - 0s 11ms/step - loss: 0.4019 - binary_accuracy: 0.8062 - val_loss: 0.4042 - val_binary_accuracy: 0.8079\n",
      "Epoch 46/100\n",
      "24/24 [==============================] - 0s 11ms/step - loss: 0.4010 - binary_accuracy: 0.8104 - val_loss: 0.4049 - val_binary_accuracy: 0.8087\n",
      "Epoch 47/100\n",
      "24/24 [==============================] - 0s 12ms/step - loss: 0.3997 - binary_accuracy: 0.8061 - val_loss: 0.4026 - val_binary_accuracy: 0.8090\n",
      "Epoch 48/100\n",
      "24/24 [==============================] - 0s 11ms/step - loss: 0.4008 - binary_accuracy: 0.8097 - val_loss: 0.4036 - val_binary_accuracy: 0.8106\n",
      "Epoch 49/100\n",
      "24/24 [==============================] - 0s 11ms/step - loss: 0.3971 - binary_accuracy: 0.8117 - val_loss: 0.4051 - val_binary_accuracy: 0.8056\n",
      "Epoch 50/100\n",
      "24/24 [==============================] - 0s 11ms/step - loss: 0.4038 - binary_accuracy: 0.8012 - val_loss: 0.4028 - val_binary_accuracy: 0.8083\n",
      "Epoch 51/100\n",
      "24/24 [==============================] - 0s 13ms/step - loss: 0.4038 - binary_accuracy: 0.8048 - val_loss: 0.4024 - val_binary_accuracy: 0.8113\n",
      "Epoch 52/100\n",
      "24/24 [==============================] - 0s 11ms/step - loss: 0.4040 - binary_accuracy: 0.8038 - val_loss: 0.4042 - val_binary_accuracy: 0.8117\n",
      "Epoch 53/100\n",
      "24/24 [==============================] - 0s 11ms/step - loss: 0.3938 - binary_accuracy: 0.8143 - val_loss: 0.4010 - val_binary_accuracy: 0.8133\n",
      "Epoch 54/100\n",
      "24/24 [==============================] - 0s 11ms/step - loss: 0.4033 - binary_accuracy: 0.8061 - val_loss: 0.4020 - val_binary_accuracy: 0.8140\n",
      "Epoch 55/100\n",
      "24/24 [==============================] - 0s 13ms/step - loss: 0.3941 - binary_accuracy: 0.8104 - val_loss: 0.3995 - val_binary_accuracy: 0.8113\n",
      "Epoch 56/100\n",
      "24/24 [==============================] - 0s 11ms/step - loss: 0.4009 - binary_accuracy: 0.8059 - val_loss: 0.3979 - val_binary_accuracy: 0.8117\n",
      "Epoch 57/100\n",
      "24/24 [==============================] - 0s 13ms/step - loss: 0.3981 - binary_accuracy: 0.8108 - val_loss: 0.4011 - val_binary_accuracy: 0.8148\n",
      "Epoch 58/100\n",
      "24/24 [==============================] - 0s 11ms/step - loss: 0.3943 - binary_accuracy: 0.8148 - val_loss: 0.4013 - val_binary_accuracy: 0.8129\n",
      "Epoch 59/100\n",
      "24/24 [==============================] - 0s 12ms/step - loss: 0.3979 - binary_accuracy: 0.8046 - val_loss: 0.3973 - val_binary_accuracy: 0.8140\n",
      "Epoch 60/100\n",
      "24/24 [==============================] - 0s 13ms/step - loss: 0.3965 - binary_accuracy: 0.8097 - val_loss: 0.4006 - val_binary_accuracy: 0.8133\n",
      "Epoch 61/100\n",
      "24/24 [==============================] - 0s 11ms/step - loss: 0.3948 - binary_accuracy: 0.8079 - val_loss: 0.3998 - val_binary_accuracy: 0.8148\n",
      "Epoch 62/100\n",
      "24/24 [==============================] - 0s 12ms/step - loss: 0.3930 - binary_accuracy: 0.8166 - val_loss: 0.3992 - val_binary_accuracy: 0.8137\n",
      "Epoch 63/100\n",
      "24/24 [==============================] - 0s 11ms/step - loss: 0.3953 - binary_accuracy: 0.8127 - val_loss: 0.3990 - val_binary_accuracy: 0.8121\n",
      "Epoch 64/100\n",
      "24/24 [==============================] - 0s 13ms/step - loss: 0.3922 - binary_accuracy: 0.8150 - val_loss: 0.3990 - val_binary_accuracy: 0.8102\n",
      "Epoch 65/100\n",
      "24/24 [==============================] - 0s 13ms/step - loss: 0.3906 - binary_accuracy: 0.8107 - val_loss: 0.3985 - val_binary_accuracy: 0.8125\n",
      "Epoch 66/100\n",
      "24/24 [==============================] - 0s 13ms/step - loss: 0.3946 - binary_accuracy: 0.8089 - val_loss: 0.3963 - val_binary_accuracy: 0.8152\n",
      "Epoch 67/100\n",
      "24/24 [==============================] - 0s 11ms/step - loss: 0.3907 - binary_accuracy: 0.8131 - val_loss: 0.3975 - val_binary_accuracy: 0.8144\n",
      "Epoch 68/100\n",
      "24/24 [==============================] - 0s 13ms/step - loss: 0.3942 - binary_accuracy: 0.8090 - val_loss: 0.3965 - val_binary_accuracy: 0.8144\n",
      "Epoch 69/100\n",
      "24/24 [==============================] - 0s 11ms/step - loss: 0.3854 - binary_accuracy: 0.8141 - val_loss: 0.3955 - val_binary_accuracy: 0.8110\n",
      "Epoch 70/100\n",
      "24/24 [==============================] - 0s 11ms/step - loss: 0.3906 - binary_accuracy: 0.8159 - val_loss: 0.3936 - val_binary_accuracy: 0.8140\n",
      "Epoch 71/100\n",
      "24/24 [==============================] - 0s 12ms/step - loss: 0.3911 - binary_accuracy: 0.8085 - val_loss: 0.3956 - val_binary_accuracy: 0.8129\n",
      "Epoch 72/100\n",
      "24/24 [==============================] - 0s 12ms/step - loss: 0.3877 - binary_accuracy: 0.8125 - val_loss: 0.3941 - val_binary_accuracy: 0.8117\n",
      "Epoch 73/100\n",
      "24/24 [==============================] - 0s 11ms/step - loss: 0.3944 - binary_accuracy: 0.8092 - val_loss: 0.3971 - val_binary_accuracy: 0.8129\n",
      "Epoch 74/100\n",
      "24/24 [==============================] - 0s 11ms/step - loss: 0.3880 - binary_accuracy: 0.8179 - val_loss: 0.3947 - val_binary_accuracy: 0.8186\n",
      "Epoch 75/100\n",
      "24/24 [==============================] - 0s 11ms/step - loss: 0.3883 - binary_accuracy: 0.8094 - val_loss: 0.3954 - val_binary_accuracy: 0.8156\n",
      "Epoch 76/100\n",
      "24/24 [==============================] - 0s 13ms/step - loss: 0.3891 - binary_accuracy: 0.8150 - val_loss: 0.3954 - val_binary_accuracy: 0.8121\n",
      "Epoch 77/100\n",
      "24/24 [==============================] - 0s 12ms/step - loss: 0.3889 - binary_accuracy: 0.8104 - val_loss: 0.3948 - val_binary_accuracy: 0.8102\n",
      "Epoch 78/100\n",
      "24/24 [==============================] - 0s 12ms/step - loss: 0.3880 - binary_accuracy: 0.8174 - val_loss: 0.3933 - val_binary_accuracy: 0.8121\n",
      "Epoch 79/100\n",
      "24/24 [==============================] - 0s 11ms/step - loss: 0.3825 - binary_accuracy: 0.8187 - val_loss: 0.3926 - val_binary_accuracy: 0.8129\n",
      "Epoch 80/100\n",
      "24/24 [==============================] - 0s 12ms/step - loss: 0.3857 - binary_accuracy: 0.8127 - val_loss: 0.3948 - val_binary_accuracy: 0.8121\n",
      "Epoch 81/100\n",
      "24/24 [==============================] - 0s 11ms/step - loss: 0.3903 - binary_accuracy: 0.8145 - val_loss: 0.3936 - val_binary_accuracy: 0.8121\n",
      "Epoch 82/100\n",
      "24/24 [==============================] - 0s 13ms/step - loss: 0.3840 - binary_accuracy: 0.8169 - val_loss: 0.3924 - val_binary_accuracy: 0.8148\n",
      "Epoch 83/100\n",
      "24/24 [==============================] - 0s 11ms/step - loss: 0.3877 - binary_accuracy: 0.8151 - val_loss: 0.3947 - val_binary_accuracy: 0.8094\n",
      "Epoch 84/100\n",
      "24/24 [==============================] - 0s 12ms/step - loss: 0.3880 - binary_accuracy: 0.8145 - val_loss: 0.3947 - val_binary_accuracy: 0.8083\n",
      "Epoch 85/100\n",
      "24/24 [==============================] - 0s 11ms/step - loss: 0.3869 - binary_accuracy: 0.8186 - val_loss: 0.3938 - val_binary_accuracy: 0.8083\n",
      "Epoch 86/100\n",
      "24/24 [==============================] - 0s 12ms/step - loss: 0.3881 - binary_accuracy: 0.8177 - val_loss: 0.3917 - val_binary_accuracy: 0.8125\n",
      "Epoch 87/100\n",
      "24/24 [==============================] - 0s 11ms/step - loss: 0.3808 - binary_accuracy: 0.8164 - val_loss: 0.3937 - val_binary_accuracy: 0.8121\n",
      "Epoch 88/100\n",
      "24/24 [==============================] - 0s 11ms/step - loss: 0.3797 - binary_accuracy: 0.8182 - val_loss: 0.3929 - val_binary_accuracy: 0.8129\n",
      "Epoch 89/100\n",
      "24/24 [==============================] - 0s 12ms/step - loss: 0.3793 - binary_accuracy: 0.8136 - val_loss: 0.3927 - val_binary_accuracy: 0.8102\n",
      "Epoch 90/100\n",
      "24/24 [==============================] - 0s 11ms/step - loss: 0.3830 - binary_accuracy: 0.8173 - val_loss: 0.3938 - val_binary_accuracy: 0.8094\n",
      "Epoch 91/100\n",
      "24/24 [==============================] - 0s 13ms/step - loss: 0.3877 - binary_accuracy: 0.8145 - val_loss: 0.3927 - val_binary_accuracy: 0.8140\n",
      "Epoch 92/100\n",
      "24/24 [==============================] - 0s 11ms/step - loss: 0.3827 - binary_accuracy: 0.8184 - val_loss: 0.3941 - val_binary_accuracy: 0.8102\n",
      "Epoch 93/100\n",
      "24/24 [==============================] - 0s 11ms/step - loss: 0.3854 - binary_accuracy: 0.8173 - val_loss: 0.3959 - val_binary_accuracy: 0.8106\n",
      "Epoch 94/100\n",
      "24/24 [==============================] - 0s 12ms/step - loss: 0.3802 - binary_accuracy: 0.8240 - val_loss: 0.3938 - val_binary_accuracy: 0.8117\n"
     ]
    },
    {
     "data": {
      "text/plain": [
       "<AxesSubplot:title={'center':'Accuracy'}>"
      ]
     },
     "execution_count": 34,
     "metadata": {},
     "output_type": "execute_result"
    },
    {
     "data": {
      "image/png": "[encoded data removed]",
      "text/plain": [
       "<Figure size 640x480 with 1 Axes>"
      ]
     },
     "metadata": {},
     "output_type": "display_data"
    },
    {
     "data": {
      "image/png": "[encoded data removed]",
      "text/plain": [
       "<Figure size 640x480 with 1 Axes>"
      ]
     },
     "metadata": {},
     "output_type": "display_data"
    }
   ],
   "source": [
    "from keras.optimizers import Adam\n",
    "# Compile model\n",
    "model.compile(\n",
    "    optimizer='adam', #Tested optimizers Adadelta, Adamax, Nadam, Ftrl, RMSprop\n",
    "                        #optimizer=Adam(learning_rate=0.001),\n",
    "    loss='binary_crossentropy', #Tested loss='poisson',\n",
    "    metrics=['binary_accuracy'],\n",
    ")\n",
    "\n",
    "# Setup early stopping\n",
    "early_stopping = keras.callbacks.EarlyStopping(\n",
    "    patience=15,\n",
    "    min_delta=0.001,\n",
    "    restore_best_weights=True,\n",
    ")\n",
    "\n",
    "history = model.fit(\n",
    "    X_train, y_train,\n",
    "    validation_data=(X_validation, y_validation),\n",
    "    batch_size=256,\n",
    "    epochs=100,\n",
    "    callbacks=[early_stopping],\n",
    ")\n",
    "\n",
    "#The fit method keeps a record of the loss produced during training in a History object. \n",
    "\n",
    "history_df = pd.DataFrame(history.history)\n",
    "history_df.loc[:, ['loss', 'val_loss']].plot(title=\"Cross-entropy\")\n",
    "history_df.loc[:, ['binary_accuracy', 'val_binary_accuracy']].plot(title=\"Accuracy\")"
   ]
  },
  {
   "cell_type": "code",
   "execution_count": 35,
   "id": "88381587",
   "metadata": {
    "execution": {
     "iopub.execute_input": "2023-03-10T05:29:00.351805Z",
     "iopub.status.busy": "2023-03-10T05:29:00.351374Z",
     "iopub.status.idle": "2023-03-10T05:29:00.361973Z",
     "shell.execute_reply": "2023-03-10T05:29:00.361119Z"
    },
    "papermill": {
     "duration": 0.065859,
     "end_time": "2023-03-10T05:29:00.364232",
     "exception": false,
     "start_time": "2023-03-10T05:29:00.298373",
     "status": "completed"
    },
    "tags": []
   },
   "outputs": [
    {
     "data": {
      "text/html": [
       "<div>\n",
       "<style scoped>\n",
       "    .dataframe tbody tr th:only-of-type {\n",
       "        vertical-align: middle;\n",
       "    }\n",
       "\n",
       "    .dataframe tbody tr th {\n",
       "        vertical-align: top;\n",
       "    }\n",
       "\n",
       "    .dataframe thead th {\n",
       "        text-align: right;\n",
       "    }\n",
       "</style>\n",
       "<table border=\"1\" class=\"dataframe\">\n",
       "  <thead>\n",
       "    <tr style=\"text-align: right;\">\n",
       "      <th></th>\n",
       "      <th>loss</th>\n",
       "      <th>binary_accuracy</th>\n",
       "      <th>val_loss</th>\n",
       "      <th>val_binary_accuracy</th>\n",
       "    </tr>\n",
       "  </thead>\n",
       "  <tbody>\n",
       "    <tr>\n",
       "      <th>0</th>\n",
       "      <td>0.670</td>\n",
       "      <td>0.714</td>\n",
       "      <td>0.610</td>\n",
       "      <td>0.618</td>\n",
       "    </tr>\n",
       "    <tr>\n",
       "      <th>1</th>\n",
       "      <td>0.571</td>\n",
       "      <td>0.743</td>\n",
       "      <td>0.553</td>\n",
       "      <td>0.697</td>\n",
       "    </tr>\n",
       "    <tr>\n",
       "      <th>2</th>\n",
       "      <td>0.531</td>\n",
       "      <td>0.755</td>\n",
       "      <td>0.535</td>\n",
       "      <td>0.770</td>\n",
       "    </tr>\n",
       "    <tr>\n",
       "      <th>3</th>\n",
       "      <td>0.507</td>\n",
       "      <td>0.759</td>\n",
       "      <td>0.518</td>\n",
       "      <td>0.777</td>\n",
       "    </tr>\n",
       "    <tr>\n",
       "      <th>4</th>\n",
       "      <td>0.491</td>\n",
       "      <td>0.767</td>\n",
       "      <td>0.510</td>\n",
       "      <td>0.780</td>\n",
       "    </tr>\n",
       "  </tbody>\n",
       "</table>\n",
       "</div>"
      ],
      "text/plain": [
       "   loss  binary_accuracy  val_loss  val_binary_accuracy\n",
       "0 0.670            0.714     0.610                0.618\n",
       "1 0.571            0.743     0.553                0.697\n",
       "2 0.531            0.755     0.535                0.770\n",
       "3 0.507            0.759     0.518                0.777\n",
       "4 0.491            0.767     0.510                0.780"
      ]
     },
     "execution_count": 35,
     "metadata": {},
     "output_type": "execute_result"
    }
   ],
   "source": [
    "history_df.head()"
   ]
  },
  {
   "cell_type": "markdown",
   "id": "5fa97d4e",
   "metadata": {
    "papermill": {
     "duration": 0.052521,
     "end_time": "2023-03-10T05:29:00.468028",
     "exception": false,
     "start_time": "2023-03-10T05:29:00.415507",
     "status": "completed"
    },
    "tags": []
   },
   "source": [
    "# Share - Create Submission"
   ]
  },
  {
   "cell_type": "code",
   "execution_count": 36,
   "id": "3574caac",
   "metadata": {
    "execution": {
     "iopub.execute_input": "2023-03-10T05:29:00.572506Z",
     "iopub.status.busy": "2023-03-10T05:29:00.571784Z",
     "iopub.status.idle": "2023-03-10T05:29:00.578353Z",
     "shell.execute_reply": "2023-03-10T05:29:00.576692Z"
    },
    "papermill": {
     "duration": 0.061586,
     "end_time": "2023-03-10T05:29:00.580654",
     "exception": false,
     "start_time": "2023-03-10T05:29:00.519068",
     "status": "completed"
    },
    "tags": []
   },
   "outputs": [
    {
     "name": "stdout",
     "output_type": "stream",
     "text": [
      "New number of features : 18\n"
     ]
    }
   ],
   "source": [
    "# Join categorical and numerical features\n",
    "#X_test = pd.concat([test_num, test_cat], axis = 1)\n",
    "X_test = test_num\n",
    "print(\"New number of features : \" + str(X_test.shape[1]))"
   ]
  },
  {
   "cell_type": "code",
   "execution_count": 37,
   "id": "b99a15f3",
   "metadata": {
    "execution": {
     "iopub.execute_input": "2023-03-10T05:29:00.701723Z",
     "iopub.status.busy": "2023-03-10T05:29:00.701209Z",
     "iopub.status.idle": "2023-03-10T05:29:00.718405Z",
     "shell.execute_reply": "2023-03-10T05:29:00.717177Z"
    },
    "papermill": {
     "duration": 0.080324,
     "end_time": "2023-03-10T05:29:00.720850",
     "exception": false,
     "start_time": "2023-03-10T05:29:00.640526",
     "status": "completed"
    },
    "tags": []
   },
   "outputs": [
    {
     "data": {
      "text/html": [
       "<div>\n",
       "<style scoped>\n",
       "    .dataframe tbody tr th:only-of-type {\n",
       "        vertical-align: middle;\n",
       "    }\n",
       "\n",
       "    .dataframe tbody tr th {\n",
       "        vertical-align: top;\n",
       "    }\n",
       "\n",
       "    .dataframe thead th {\n",
       "        text-align: right;\n",
       "    }\n",
       "</style>\n",
       "<table border=\"1\" class=\"dataframe\">\n",
       "  <thead>\n",
       "    <tr style=\"text-align: right;\">\n",
       "      <th></th>\n",
       "      <th>HomePlanet</th>\n",
       "      <th>CryoSleep</th>\n",
       "      <th>Destination</th>\n",
       "      <th>Age</th>\n",
       "      <th>VIP</th>\n",
       "      <th>RoomService</th>\n",
       "      <th>FoodCourt</th>\n",
       "      <th>ShoppingMall</th>\n",
       "      <th>Spa</th>\n",
       "      <th>VRDeck</th>\n",
       "      <th>Cabin_deck</th>\n",
       "      <th>Cabin_num</th>\n",
       "      <th>Cabin_side</th>\n",
       "      <th>gggg</th>\n",
       "      <th>pp</th>\n",
       "      <th>First_Name_Initial</th>\n",
       "      <th>Cabin_deck_x_gggg</th>\n",
       "      <th>Destination_x_CryoSleep</th>\n",
       "    </tr>\n",
       "  </thead>\n",
       "  <tbody>\n",
       "    <tr>\n",
       "      <th>0</th>\n",
       "      <td>1</td>\n",
       "      <td>1</td>\n",
       "      <td>0</td>\n",
       "      <td>27.000</td>\n",
       "      <td>0</td>\n",
       "      <td>0.000</td>\n",
       "      <td>0.000</td>\n",
       "      <td>0.000</td>\n",
       "      <td>0.000</td>\n",
       "      <td>0.000</td>\n",
       "      <td>6</td>\n",
       "      <td>3</td>\n",
       "      <td>1</td>\n",
       "      <td>13</td>\n",
       "      <td>1</td>\n",
       "      <td>14</td>\n",
       "      <td>78</td>\n",
       "      <td>0</td>\n",
       "    </tr>\n",
       "    <tr>\n",
       "      <th>1</th>\n",
       "      <td>1</td>\n",
       "      <td>0</td>\n",
       "      <td>0</td>\n",
       "      <td>19.000</td>\n",
       "      <td>0</td>\n",
       "      <td>0.000</td>\n",
       "      <td>9.000</td>\n",
       "      <td>0.000</td>\n",
       "      <td>2823.000</td>\n",
       "      <td>0.000</td>\n",
       "      <td>5</td>\n",
       "      <td>4</td>\n",
       "      <td>1</td>\n",
       "      <td>18</td>\n",
       "      <td>1</td>\n",
       "      <td>12</td>\n",
       "      <td>90</td>\n",
       "      <td>0</td>\n",
       "    </tr>\n",
       "    <tr>\n",
       "      <th>2</th>\n",
       "      <td>0</td>\n",
       "      <td>1</td>\n",
       "      <td>2</td>\n",
       "      <td>31.000</td>\n",
       "      <td>0</td>\n",
       "      <td>0.000</td>\n",
       "      <td>0.000</td>\n",
       "      <td>0.000</td>\n",
       "      <td>0.000</td>\n",
       "      <td>0.000</td>\n",
       "      <td>2</td>\n",
       "      <td>0</td>\n",
       "      <td>1</td>\n",
       "      <td>19</td>\n",
       "      <td>1</td>\n",
       "      <td>19</td>\n",
       "      <td>38</td>\n",
       "      <td>2</td>\n",
       "    </tr>\n",
       "    <tr>\n",
       "      <th>3</th>\n",
       "      <td>0</td>\n",
       "      <td>0</td>\n",
       "      <td>0</td>\n",
       "      <td>38.000</td>\n",
       "      <td>0</td>\n",
       "      <td>0.000</td>\n",
       "      <td>6652.000</td>\n",
       "      <td>0.000</td>\n",
       "      <td>181.000</td>\n",
       "      <td>585.000</td>\n",
       "      <td>2</td>\n",
       "      <td>1</td>\n",
       "      <td>1</td>\n",
       "      <td>21</td>\n",
       "      <td>1</td>\n",
       "      <td>13</td>\n",
       "      <td>42</td>\n",
       "      <td>0</td>\n",
       "    </tr>\n",
       "    <tr>\n",
       "      <th>4</th>\n",
       "      <td>1</td>\n",
       "      <td>0</td>\n",
       "      <td>0</td>\n",
       "      <td>20.000</td>\n",
       "      <td>0</td>\n",
       "      <td>10.000</td>\n",
       "      <td>0.000</td>\n",
       "      <td>635.000</td>\n",
       "      <td>0.000</td>\n",
       "      <td>0.000</td>\n",
       "      <td>5</td>\n",
       "      <td>5</td>\n",
       "      <td>1</td>\n",
       "      <td>23</td>\n",
       "      <td>1</td>\n",
       "      <td>2</td>\n",
       "      <td>115</td>\n",
       "      <td>0</td>\n",
       "    </tr>\n",
       "  </tbody>\n",
       "</table>\n",
       "</div>"
      ],
      "text/plain": [
       "   HomePlanet  CryoSleep  Destination    Age  VIP  RoomService  FoodCourt  \\\n",
       "0           1          1            0 27.000    0        0.000      0.000   \n",
       "1           1          0            0 19.000    0        0.000      9.000   \n",
       "2           0          1            2 31.000    0        0.000      0.000   \n",
       "3           0          0            0 38.000    0        0.000   6652.000   \n",
       "4           1          0            0 20.000    0       10.000      0.000   \n",
       "\n",
       "   ShoppingMall      Spa  VRDeck  Cabin_deck  Cabin_num  Cabin_side  gggg  pp  \\\n",
       "0         0.000    0.000   0.000           6          3           1    13   1   \n",
       "1         0.000 2823.000   0.000           5          4           1    18   1   \n",
       "2         0.000    0.000   0.000           2          0           1    19   1   \n",
       "3         0.000  181.000 585.000           2          1           1    21   1   \n",
       "4       635.000    0.000   0.000           5          5           1    23   1   \n",
       "\n",
       "   First_Name_Initial  Cabin_deck_x_gggg  Destination_x_CryoSleep  \n",
       "0                  14                 78                        0  \n",
       "1                  12                 90                        0  \n",
       "2                  19                 38                        2  \n",
       "3                  13                 42                        0  \n",
       "4                   2                115                        0  "
      ]
     },
     "execution_count": 37,
     "metadata": {},
     "output_type": "execute_result"
    }
   ],
   "source": [
    "X_test.head()"
   ]
  },
  {
   "cell_type": "code",
   "execution_count": 38,
   "id": "939b787f",
   "metadata": {
    "execution": {
     "iopub.execute_input": "2023-03-10T05:29:00.827129Z",
     "iopub.status.busy": "2023-03-10T05:29:00.825943Z",
     "iopub.status.idle": "2023-03-10T05:29:01.323713Z",
     "shell.execute_reply": "2023-03-10T05:29:01.322212Z"
    },
    "papermill": {
     "duration": 0.554928,
     "end_time": "2023-03-10T05:29:01.327358",
     "exception": false,
     "start_time": "2023-03-10T05:29:00.772430",
     "status": "completed"
    },
    "tags": []
   },
   "outputs": [
    {
     "name": "stdout",
     "output_type": "stream",
     "text": [
      "134/134 [==============================] - 0s 2ms/step\n",
      "[[0.54239255]\n",
      " [0.06209651]\n",
      " [0.9918541 ]\n",
      " ...\n",
      " [0.9489332 ]\n",
      " [0.85082626]\n",
      " [0.5104641 ]]\n"
     ]
    }
   ],
   "source": [
    "# Predict\n",
    "y_test_pred = model.predict(X_test)\n",
    "print(y_test_pred)"
   ]
  },
  {
   "cell_type": "code",
   "execution_count": 39,
   "id": "65a1a738",
   "metadata": {
    "execution": {
     "iopub.execute_input": "2023-03-10T05:29:01.436682Z",
     "iopub.status.busy": "2023-03-10T05:29:01.435530Z",
     "iopub.status.idle": "2023-03-10T05:29:01.442345Z",
     "shell.execute_reply": "2023-03-10T05:29:01.441441Z"
    },
    "papermill": {
     "duration": 0.064546,
     "end_time": "2023-03-10T05:29:01.444450",
     "exception": false,
     "start_time": "2023-03-10T05:29:01.379904",
     "status": "completed"
    },
    "tags": []
   },
   "outputs": [
    {
     "data": {
      "text/plain": [
       "4277"
      ]
     },
     "execution_count": 39,
     "metadata": {},
     "output_type": "execute_result"
    }
   ],
   "source": [
    "y_test_pred[1]\n",
    "len(y_test_pred)"
   ]
  },
  {
   "cell_type": "code",
   "execution_count": 40,
   "id": "45d4dec2",
   "metadata": {
    "execution": {
     "iopub.execute_input": "2023-03-10T05:29:01.553618Z",
     "iopub.status.busy": "2023-03-10T05:29:01.552590Z",
     "iopub.status.idle": "2023-03-10T05:29:01.559370Z",
     "shell.execute_reply": "2023-03-10T05:29:01.557943Z"
    },
    "papermill": {
     "duration": 0.064161,
     "end_time": "2023-03-10T05:29:01.561687",
     "exception": false,
     "start_time": "2023-03-10T05:29:01.497526",
     "status": "completed"
    },
    "tags": []
   },
   "outputs": [
    {
     "name": "stdout",
     "output_type": "stream",
     "text": [
      "[[ True False  True ...  True  True  True]]\n"
     ]
    }
   ],
   "source": [
    "# Convert the prediction probabilities to bool\n",
    "threshold=0.5\n",
    "y_test_bool=(y_test_pred > threshold) \n",
    "y_test_bool=y_test_bool.transpose()\n",
    "print(y_test_bool)\n"
   ]
  },
  {
   "cell_type": "code",
   "execution_count": 41,
   "id": "8d36e384",
   "metadata": {
    "execution": {
     "iopub.execute_input": "2023-03-10T05:29:01.669294Z",
     "iopub.status.busy": "2023-03-10T05:29:01.668844Z",
     "iopub.status.idle": "2023-03-10T05:29:01.675857Z",
     "shell.execute_reply": "2023-03-10T05:29:01.674621Z"
    },
    "papermill": {
     "duration": 0.062636,
     "end_time": "2023-03-10T05:29:01.678117",
     "exception": false,
     "start_time": "2023-03-10T05:29:01.615481",
     "status": "completed"
    },
    "tags": []
   },
   "outputs": [
    {
     "data": {
      "text/plain": [
       "4277"
      ]
     },
     "execution_count": 41,
     "metadata": {},
     "output_type": "execute_result"
    }
   ],
   "source": [
    "#len(test.PassengerId)\n",
    "len(y_test_bool[0])\n"
   ]
  },
  {
   "cell_type": "code",
   "execution_count": 42,
   "id": "17f0bca5",
   "metadata": {
    "execution": {
     "iopub.execute_input": "2023-03-10T05:29:01.785534Z",
     "iopub.status.busy": "2023-03-10T05:29:01.784534Z",
     "iopub.status.idle": "2023-03-10T05:29:01.803208Z",
     "shell.execute_reply": "2023-03-10T05:29:01.801387Z"
    },
    "papermill": {
     "duration": 0.075415,
     "end_time": "2023-03-10T05:29:01.805891",
     "exception": false,
     "start_time": "2023-03-10T05:29:01.730476",
     "status": "completed"
    },
    "tags": []
   },
   "outputs": [
    {
     "name": "stdout",
     "output_type": "stream",
     "text": [
      "Your submission was successfully saved!\n"
     ]
    }
   ],
   "source": [
    "# Output\n",
    "\n",
    "output = pd.DataFrame({'PassengerId': test.PassengerId, 'Transported': y_test_bool[0]})\n",
    "\n",
    "#output['Transported']=output['Transported'].astype(bool)\n",
    "output.to_csv('submission.csv', index=False)\n",
    "print(\"Your submission was successfully saved!\")\n"
   ]
  }
 ],
 "metadata": {
  "kernelspec": {
   "display_name": "Python 3",
   "language": "python",
   "name": "python3"
  },
  "language_info": {
   "codemirror_mode": {
    "name": "ipython",
    "version": 3
   },
   "file_extension": ".py",
   "mimetype": "text/x-python",
   "name": "python",
   "nbconvert_exporter": "python",
   "pygments_lexer": "ipython3",
   "version": "3.7.12"
  },
  "papermill": {
   "default_parameters": {},
   "duration": 57.75169,
   "end_time": "2023-03-10T05:29:04.797558",
   "environment_variables": {},
   "exception": null,
   "input_path": "__notebook__.ipynb",
   "output_path": "__notebook__.ipynb",
   "parameters": {},
   "start_time": "2023-03-10T05:28:07.045868",
   "version": "2.4.0"
  }
 },
 "nbformat": 4,
 "nbformat_minor": 5
}
